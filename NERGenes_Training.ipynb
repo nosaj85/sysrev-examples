{
 "cells": [
  {
   "cell_type": "markdown",
   "metadata": {},
   "source": [
    "# Gene NER using PySysrev and Human Review (Part II)\n",
    "<span style=\"color:gray\">James Borden, Nole Lin</span>\n",
    "\n",
    "In this series on the Sysrev tool, we build a Named Entity Recognition (NER) model for genes.  We use data from 2000 abstracts reviewed in the sysrev [Gene Hunter project](https://sysrev.com/p/3144). This second part of the series describes how users can use the spaCy.io library to train a model to detect gene names in text.\n",
    "\n",
    "In this notebook we:\n",
    "\n",
    "1. **Train Annotations** using data from the Gene Hunter project\n",
    "2. **Test Model** on example text to check its performance\n",
    "\n",
    "We start by getting the training annotations from the gene hunter project ([sysrev.com/p/3144](https://sysrev.com/p/3144)) below.  This process is described in [part I](https://s3.amazonaws.com/sysrev-blog/NERGenes_Processing.html)"
   ]
  },
  {
   "cell_type": "code",
   "execution_count": 8,
   "metadata": {},
   "outputs": [
    {
     "data": {
      "text/html": [
       "<script>requirejs.config({paths: { 'plotly': ['https://cdn.plot.ly/plotly-latest.min']},});if(!window.Plotly) {{require(['plotly'],function(plotly) {window.Plotly=plotly;});}}</script>"
      ],
      "text/vnd.plotly.v1+html": [
       "<script>requirejs.config({paths: { 'plotly': ['https://cdn.plot.ly/plotly-latest.min']},});if(!window.Plotly) {{require(['plotly'],function(plotly) {window.Plotly=plotly;});}}</script>"
      ]
     },
     "metadata": {},
     "output_type": "display_data"
    },
    {
     "name": "stdout",
     "output_type": "stream",
     "text": [
      "text:\tBACKGROUND: Olaparib is an oral poly(adenosine diphosphate-ribose) polymerase inhibitor that has pro...\n",
      "entities:\t{u'entities': [(183, 187, u'GENE'), (1726, 1730, u'GENE'), (354, 358, u'GENE')]}\n",
      "num paragraphs: 1231\n"
     ]
    }
   ],
   "source": [
    "import PySysrev\n",
    "TRAIN_DATA = PySysrev.processAnnotations(project_id=3144, label='GENE')\n",
    "\n",
    "print(\"text:\\t{}...\\nentities:\\t{}\".format(TRAIN_DATA[0][0][0:100],TRAIN_DATA[0][1]))\n",
    "print(\"num paragraphs: {}\".format(len(TRAIN_DATA)))"
   ]
  },
  {
   "cell_type": "markdown",
   "metadata": {},
   "source": [
    "## Training a gene annotation model\n",
    "\n",
    "After formatting our annotations and text, we can train an NER model for genes. To train annotations we:\n",
    "1. Initialize a blank English spacy model. \n",
    "2. Train the model on the gene hunter training set.\n",
    "3. Save our model.\n",
    "\n",
    "**(1) Initialize english spacy model**  \n",
    "Creating a blank spacy model is simple, below we set some basic parameters. In spaCy, we will create a pipeline and add the NER task to it. We specify the gene entity as the label, and initiate the optimizer to begin training."
   ]
  },
  {
   "cell_type": "code",
   "execution_count": 2,
   "metadata": {},
   "outputs": [
    {
     "name": "stdout",
     "output_type": "stream",
     "text": [
      "Warning: Unnamed vectors -- this won't allow multiple vectors models to be loaded. (Shape: (0, 0))\n"
     ]
    }
   ],
   "source": [
    "from __future__ import unicode_literals, print_function\n",
    "import spacy\n",
    "\n",
    "nlp = spacy.blank('en')\n",
    "nlp.meta['name'] = 'gene'\n",
    "\n",
    "ner = nlp.create_pipe('ner')\n",
    "ner.add_label('GENE')\n",
    "\n",
    "nlp.add_pipe(ner)\n",
    "optimizer = nlp.begin_training()"
   ]
  },
  {
   "cell_type": "markdown",
   "metadata": {},
   "source": [
    "**(2) Train the model**  \n",
    "To train the model we repeatedly call `nlp.update` on the training corpus `TRAIN_DATA`.  Each iteration is referred to as an 'epoch' and the model should improve on each call. Internally spacy is fitting a complex model to the ~1000 training instances provided by Sysrev.  The [spacy documentation](https://spacy.io/usage/linguistic-features#section-named-entities) helps explain this process.\n",
    "\n",
    "<span style=\"color:#AC3434\">Warning - running this code may take a long time.  consider reducing the training size or using fewer epochs.</span>"
   ]
  },
  {
   "cell_type": "code",
   "execution_count": 3,
   "metadata": {},
   "outputs": [
    {
     "name": "stdout",
     "output_type": "stream",
     "text": [
      "0 1 2 3 4 5 6 7 8 9 10 11 12 13 14 15 16 17 18 19 20 21 22 23 24 25 26 27 28 29  done\n"
     ]
    }
   ],
   "source": [
    "import random, sys\n",
    "\n",
    "epochs = 30\n",
    "trace_losses = [] #track losses over time (we use this for graphing later)\n",
    "\n",
    "for itn in range(epochs):\n",
    "    sys.stdout.write(\"{} \".format(itn))\n",
    "    losses = {}\n",
    "    text = [item[0] for item in TRAIN_DATA] #get training text items\n",
    "    annotations = [item[1] for item in TRAIN_DATA] #get training annotations\n",
    "    \n",
    "    nlp.update(text, annotations, sgd=optimizer, drop=0.6,losses=losses)\n",
    "    trace_losses.append(losses['ner']) #track the per epoch losses\n",
    "\n",
    "print(\" done\")"
   ]
  },
  {
   "cell_type": "markdown",
   "metadata": {},
   "source": [
    "## Visualize Training\n",
    "It is important to see how the model learns over time.  The below graph shows no change in loss after ~ 5 epochs. This model could be overfit! The 60% [dropout](https://en.wikipedia.org/wiki/Dropout_(neural_networks)) we used is one method to combat overfitting."
   ]
  },
  {
   "cell_type": "code",
   "execution_count": 17,
   "metadata": {
    "scrolled": false
   },
   "outputs": [
    {
     "data": {
      "text/html": [
       "<script>requirejs.config({paths: { 'plotly': ['https://cdn.plot.ly/plotly-latest.min']},});if(!window.Plotly) {{require(['plotly'],function(plotly) {window.Plotly=plotly;});}}</script>"
      ],
      "text/vnd.plotly.v1+html": [
       "<script>requirejs.config({paths: { 'plotly': ['https://cdn.plot.ly/plotly-latest.min']},});if(!window.Plotly) {{require(['plotly'],function(plotly) {window.Plotly=plotly;});}}</script>"
      ]
     },
     "metadata": {},
     "output_type": "display_data"
    },
    {
     "data": {
      "application/vnd.plotly.v1+json": {
       "data": [
        {
         "type": "scatter",
         "uid": "046b280c-d3c6-11e8-8f47-80fa5b31e609",
         "x": [
          0,
          1,
          2,
          3,
          4,
          5,
          6,
          7,
          8,
          9,
          10,
          11,
          12,
          13,
          14,
          15,
          16,
          17,
          18,
          19,
          20,
          21,
          22,
          23,
          24,
          25,
          26,
          27,
          28,
          29
         ],
         "y": [
          0.09212643932551146,
          0.06447655893862247,
          0.0419250107370317,
          0.028093635570257902,
          0.013099010335281491,
          0.007290224311873317,
          0.006533550098538399,
          0.006865074974484742,
          0.008268175879493356,
          0.018207528395578265,
          0.016233730129897594,
          0.01254882849752903,
          0.010061741340905428,
          0.008542292169295251,
          0.0107671027071774,
          0.009350681095384061,
          0.007343738689087331,
          0.0081602941500023,
          0.009080276009626687,
          0.008160443510860205,
          0.00946659583132714,
          0.00999624386895448,
          0.009620319702662528,
          0.008207225590012968,
          0.007778750499710441,
          0.0060539329424500465,
          0.00803505233488977,
          0.006375598954036832,
          0.007718489738181233,
          0.007301848265342414
         ]
        }
       ],
       "layout": {}
      },
      "text/html": [
       "<div id=\"ec68e3f3-0859-4f95-8418-35f5dc4526d1\" style=\"height: 525px; width: 100%;\" class=\"plotly-graph-div\"></div><script type=\"text/javascript\">require([\"plotly\"], function(Plotly) { window.PLOTLYENV=window.PLOTLYENV || {};window.PLOTLYENV.BASE_URL=\"https://plot.ly\";Plotly.newPlot(\"ec68e3f3-0859-4f95-8418-35f5dc4526d1\", [{\"y\": [0.09212643932551146, 0.06447655893862247, 0.0419250107370317, 0.028093635570257902, 0.013099010335281491, 0.007290224311873317, 0.006533550098538399, 0.006865074974484742, 0.008268175879493356, 0.018207528395578265, 0.016233730129897594, 0.01254882849752903, 0.010061741340905428, 0.008542292169295251, 0.0107671027071774, 0.009350681095384061, 0.007343738689087331, 0.0081602941500023, 0.009080276009626687, 0.008160443510860205, 0.00946659583132714, 0.00999624386895448, 0.009620319702662528, 0.008207225590012968, 0.007778750499710441, 0.0060539329424500465, 0.00803505233488977, 0.006375598954036832, 0.007718489738181233, 0.007301848265342414], \"x\": [0, 1, 2, 3, 4, 5, 6, 7, 8, 9, 10, 11, 12, 13, 14, 15, 16, 17, 18, 19, 20, 21, 22, 23, 24, 25, 26, 27, 28, 29], \"type\": \"scatter\", \"uid\": \"046b280d-d3c6-11e8-8f47-80fa5b31e609\"}], {}, {\"linkText\": \"Export to plot.ly\", \"showLink\": true})});</script>"
      ],
      "text/vnd.plotly.v1+html": [
       "<div id=\"ec68e3f3-0859-4f95-8418-35f5dc4526d1\" style=\"height: 525px; width: 100%;\" class=\"plotly-graph-div\"></div><script type=\"text/javascript\">require([\"plotly\"], function(Plotly) { window.PLOTLYENV=window.PLOTLYENV || {};window.PLOTLYENV.BASE_URL=\"https://plot.ly\";Plotly.newPlot(\"ec68e3f3-0859-4f95-8418-35f5dc4526d1\", [{\"y\": [0.09212643932551146, 0.06447655893862247, 0.0419250107370317, 0.028093635570257902, 0.013099010335281491, 0.007290224311873317, 0.006533550098538399, 0.006865074974484742, 0.008268175879493356, 0.018207528395578265, 0.016233730129897594, 0.01254882849752903, 0.010061741340905428, 0.008542292169295251, 0.0107671027071774, 0.009350681095384061, 0.007343738689087331, 0.0081602941500023, 0.009080276009626687, 0.008160443510860205, 0.00946659583132714, 0.00999624386895448, 0.009620319702662528, 0.008207225590012968, 0.007778750499710441, 0.0060539329424500465, 0.00803505233488977, 0.006375598954036832, 0.007718489738181233, 0.007301848265342414], \"x\": [0, 1, 2, 3, 4, 5, 6, 7, 8, 9, 10, 11, 12, 13, 14, 15, 16, 17, 18, 19, 20, 21, 22, 23, 24, 25, 26, 27, 28, 29], \"type\": \"scatter\", \"uid\": \"046b280d-d3c6-11e8-8f47-80fa5b31e609\"}], {}, {\"linkText\": \"Export to plot.ly\", \"showLink\": true})});</script>"
      ]
     },
     "metadata": {},
     "output_type": "display_data"
    }
   ],
   "source": [
    "from plotly.offline import download_plotlyjs, init_notebook_mode, plot, iplot\n",
    "init_notebook_mode(connected=True) # required for plotly graphs w/out accounts\n",
    "\n",
    "import plotly.graph_objs as go\n",
    "\n",
    "trace0 = go.Scatter(x=range(epochs),y=trace_losses)\n",
    "iplot([trace0])"
   ]
  },
  {
   "cell_type": "markdown",
   "metadata": {},
   "source": [
    "## Test Model\n",
    "\n",
    "Below we visualize the model abilities on a paragraph in the training corpus.  We use the spacy `displacy` visualizer ([documentation](https://spacy.io/usage/visualizers)) and some html formatting to help readability. \n",
    "\n",
    "The results look great! The model seems to capture most of the genes. Though it does miss `TNFα`, maybe because of that pesky alpha.  The model also manages to avoid incorrectly labelling non-genes as genes."
   ]
  },
  {
   "cell_type": "code",
   "execution_count": 15,
   "metadata": {},
   "outputs": [
    {
     "data": {
      "text/html": [
       "<div style='background-color:lightblue;padding:10px'><div class=\"entities\" style=\"line-height: 2.5\">OBJECTIVES: We investigated whether polymorphisms (SNPs) in the promoter region of \n",
       "<mark class=\"entity\" style=\"background: #ddd; padding: 0.45em 0.6em; margin: 0 0.25em; line-height: 1; border-radius: 0.35em; box-decoration-break: clone; -webkit-box-decoration-break: clone\">\n",
       "    TNFA\n",
       "    <span style=\"font-size: 0.8em; font-weight: bold; line-height: 1; border-radius: 0.35em; text-transform: uppercase; vertical-align: middle; margin-left: 0.5rem\">GENE</span>\n",
       "</mark>\n",
       ", or in the autoinflammatory \n",
       "<mark class=\"entity\" style=\"background: #ddd; padding: 0.45em 0.6em; margin: 0 0.25em; line-height: 1; border-radius: 0.35em; box-decoration-break: clone; -webkit-box-decoration-break: clone\">\n",
       "    TNFRSF1A\n",
       "    <span style=\"font-size: 0.8em; font-weight: bold; line-height: 1; border-radius: 0.35em; text-transform: uppercase; vertical-align: middle; margin-left: 0.5rem\">GENE</span>\n",
       "</mark>\n",
       " and \n",
       "<mark class=\"entity\" style=\"background: #ddd; padding: 0.45em 0.6em; margin: 0 0.25em; line-height: 1; border-radius: 0.35em; box-decoration-break: clone; -webkit-box-decoration-break: clone\">\n",
       "    MEFV\n",
       "    <span style=\"font-size: 0.8em; font-weight: bold; line-height: 1; border-radius: 0.35em; text-transform: uppercase; vertical-align: middle; margin-left: 0.5rem\">GENE</span>\n",
       "</mark>\n",
       " genes, concur with \n",
       "<mark class=\"entity\" style=\"background: #ddd; padding: 0.45em 0.6em; margin: 0 0.25em; line-height: 1; border-radius: 0.35em; box-decoration-break: clone; -webkit-box-decoration-break: clone\">\n",
       "    HLA\n",
       "    <span style=\"font-size: 0.8em; font-weight: bold; line-height: 1; border-radius: 0.35em; text-transform: uppercase; vertical-align: middle; margin-left: 0.5rem\">GENE</span>\n",
       "</mark>\n",
       "-B27 in enhancing the risk of Spondyloarthritis (SpA) and/or in predicting the response to anti-TNFα treatment.    METHODS: 373 controls and 137 SpA (82 with Psoriatic Arthritis-PsA and 55 with Ankylosing Spondylitis- AS; 98/137 under TNFα inhibitor therapy) from the Veneto Region (Italy) were studied. TNFA polymorphisms (-1031T>C;-857C>T;-376G>A;-308G>A;-238G>A) and \n",
       "<mark class=\"entity\" style=\"background: #ddd; padding: 0.45em 0.6em; margin: 0 0.25em; line-height: 1; border-radius: 0.35em; box-decoration-break: clone; -webkit-box-decoration-break: clone\">\n",
       "    HLA\n",
       "    <span style=\"font-size: 0.8em; font-weight: bold; line-height: 1; border-radius: 0.35em; text-transform: uppercase; vertical-align: middle; margin-left: 0.5rem\">GENE</span>\n",
       "</mark>\n",
       "-B27 were assayed by RT-PCR. Direct sequencing of \n",
       "<mark class=\"entity\" style=\"background: #ddd; padding: 0.45em 0.6em; margin: 0 0.25em; line-height: 1; border-radius: 0.35em; box-decoration-break: clone; -webkit-box-decoration-break: clone\">\n",
       "    MEFV\n",
       "    <span style=\"font-size: 0.8em; font-weight: bold; line-height: 1; border-radius: 0.35em; text-transform: uppercase; vertical-align: middle; margin-left: 0.5rem\">GENE</span>\n",
       "</mark>\n",
       " (exons 2,3,5 and 10) and \n",
       "<mark class=\"entity\" style=\"background: #ddd; padding: 0.45em 0.6em; margin: 0 0.25em; line-height: 1; border-radius: 0.35em; box-decoration-break: clone; -webkit-box-decoration-break: clone\">\n",
       "    TNFRSF1A\n",
       "    <span style=\"font-size: 0.8em; font-weight: bold; line-height: 1; border-radius: 0.35em; text-transform: uppercase; vertical-align: middle; margin-left: 0.5rem\">GENE</span>\n",
       "</mark>\n",
       " (exons 2,3,4 and 6) genes were performed.    </div></div>"
      ],
      "text/plain": [
       "<IPython.core.display.HTML object>"
      ]
     },
     "metadata": {},
     "output_type": "display_data"
    }
   ],
   "source": [
    "test_text = TRAIN_DATA[3][0][0:659].replace(\"\\n\",\"  \")\n",
    "\n",
    "ner_prediction = nlp(test_text)\n",
    "html_ner_prediction = spacy.displacy.render(nlp(test_text), style='ent')\n",
    "\n",
    "from IPython.core.display import display, HTML\n",
    "display(HTML(\"<div style='background-color:lightblue;padding:10px'>{}</div>\".format(html_ner_prediction)))"
   ]
  },
  {
   "cell_type": "markdown",
   "metadata": {},
   "source": [
    "# Evaluation and Production\n",
    "The above results still look pretty good, but we need to do a better job of testing. In part III we will be doing more evaluation.  In Part IV the model will become available in a web application and an API.  "
   ]
  }
 ],
 "metadata": {
  "kernelspec": {
   "display_name": "Python [default]",
   "language": "python",
   "name": "python2"
  },
  "language_info": {
   "codemirror_mode": {
    "name": "ipython",
    "version": 2
   },
   "file_extension": ".py",
   "mimetype": "text/x-python",
   "name": "python",
   "nbconvert_exporter": "python",
   "pygments_lexer": "ipython2",
   "version": "2.7.15"
  }
 },
 "nbformat": 4,
 "nbformat_minor": 2
}
