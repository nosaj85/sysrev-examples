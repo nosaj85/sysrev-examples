{
 "cells": [
  {
   "cell_type": "markdown",
   "metadata": {},
   "source": [
    "# Gene NER using PySysrev and Human Review (Part III)\n",
    "<span style=\"color:gray\">James Borden, Nole Lin</span>\n",
    "\n",
    "In this series on the Sysrev tool, we build a Named Entity Recognition (NER) model for genes.  We use data from 2000 abstracts reviewed in the sysrev [Gene Hunter project](https://sysrev.com/p/3144). This third part of the series details how we can evaluate our model .\n",
    "\n",
    "In this notebook we:\n",
    "\n",
    "1. **Perform k-fold cross validation** on our model\n",
    "2. **Evaluate Model** on Gene Hunter text to test performance\n",
    "\n",
    "We start by getting the training annotations from the gene hunter project ([sysrev.com/p/3144](https://sysrev.com/p/3144)) below.  This process is described in [part I](https://s3.amazonaws.com/sysrev-blog/NERGenes_Processing.html)"
   ]
  },
  {
   "cell_type": "markdown",
   "metadata": {},
   "source": [
    "## K-fold Cross Validation\n",
    "\n",
    "A parameter we can tune when training our model in spaCy is the dropout rate. The dropout rate refers to the proportion of random nodes in the hidden layer we select to \"switch off\" so as to not allow those connections to pass along information when updating weights. To find the proper rate for dropout, we can section our training data into k-parts and find the average loss across those sections for any given dropout rate. We demonstrate this practice below. Here, we set the number of folds to be 5, the range of dropout rates to be from 0.1 to 0.5, and the number of epochs to be 3 to save time."
   ]
  },
  {
   "cell_type": "code",
   "execution_count": null,
   "metadata": {},
   "outputs": [],
   "source": [
    "from __future__ import unicode_literals, print_function\n",
    "import spacy\n",
    "import PySysrev\n",
    "import random, sys\n",
    "\n",
    "TRAIN_DATA = PySysrev.processAnnotations(project_id=3144, label='GENE')\n",
    "\n",
    "epochs = 3\n",
    "num_folds = 5\n",
    "fold_size = len(TRAIN_DATA) / num_folds\n",
    "k_fold_results = {}\n",
    "\n",
    "for dor in [0.1, 0.2, 0.3, 0.4, 0.5]:\n",
    "    for k in range(num_folds):\n",
    "        \n",
    "        nlp = spacy.blank('en')\n",
    "        nlp.meta['name'] = 'gene'\n",
    "\n",
    "        ner = nlp.create_pipe('ner')\n",
    "        ner.add_label('GENE')\n",
    "\n",
    "        nlp.add_pipe(ner)\n",
    "        optimizer = nlp.begin_training()\n",
    "        \n",
    "        for itn in range(epochs):\n",
    "            losses = {}\n",
    "            holdout_range = range(k * fold_size, (k + 1) * fold_size)\n",
    "            text = [item[0] for count, item in enumerate(TRAIN_DATA) if count not in holdout_range] #get training text items\n",
    "            annotations = [item[1] for count, item in enumerate(TRAIN_DATA) if count not in holdout_range] #get training annotations\n",
    "\n",
    "            nlp.update(text, annotations, sgd=optimizer, drop=dor,losses=losses)\n",
    "            trace_losses.append(losses['ner']) #track the per epoch losses\n",
    "        k_fold_results[(dor, k)] = losses['ner']"
   ]
  },
  {
   "cell_type": "markdown",
   "metadata": {},
   "source": [
    "Now we want to find the dropout rate that had the lowest average across the 5 folds. It looks like a rate of 0.2 performed the best."
   ]
  },
  {
   "cell_type": "code",
   "execution_count": 33,
   "metadata": {},
   "outputs": [
    {
     "name": "stdout",
     "output_type": "stream",
     "text": [
      "Dropout Rate:  0.1 Average Loss:  0.00804237237898633\n",
      "Dropout Rate:  0.2 Average Loss:  0.007454585621599108\n",
      "Dropout Rate:  0.3 Average Loss:  0.01417305856011808\n",
      "Dropout Rate:  0.4 Average Loss:  0.02278483025729656\n",
      "Dropout Rate:  0.5 Average Loss:  0.06490198126994073\n"
     ]
    }
   ],
   "source": [
    "import numpy as np\n",
    "\n",
    "for dor in [0.1, 0.2, 0.3, 0.4, 0.5]:\n",
    "    dor_results = [x for x in k_fold_results.keys() if dor in x]\n",
    "    print (\"Dropout Rate: \", dor, \"Average Loss: \", np.mean([k_fold_results[x] for x in dor_results]))"
   ]
  },
  {
   "cell_type": "markdown",
   "metadata": {},
   "source": [
    "Next we can move on to training our model with the optimal dropout rate. We will run it for more epochs to get better results."
   ]
  },
  {
   "cell_type": "code",
   "execution_count": null,
   "metadata": {},
   "outputs": [],
   "source": [
    "nlp = spacy.blank('en')\n",
    "nlp.meta['name'] = 'gene'\n",
    "\n",
    "ner = nlp.create_pipe('ner')\n",
    "ner.add_label('GENE')\n",
    "\n",
    "nlp.add_pipe(ner)\n",
    "optimizer = nlp.begin_training()\n",
    "\n",
    "epochs = 20\n",
    "\n",
    "for itn in range(epochs):\n",
    "    losses = {}\n",
    "    text = [item[0] for item in TRAIN_DATA] #get training text items\n",
    "    annotations = [item[1] for item in TRAIN_DATA] #get training annotations\n",
    "    \n",
    "    nlp.update(text, annotations, sgd=optimizer, drop=0.2,losses=losses)"
   ]
  },
  {
   "cell_type": "markdown",
   "metadata": {},
   "source": [
    "Extracting the DataFrame for the Gene Hunter project and adding the predicted entites column, we can see some examples of genes the model is able to detect."
   ]
  },
  {
   "cell_type": "code",
   "execution_count": 96,
   "metadata": {},
   "outputs": [
    {
     "data": {
      "text/html": [
       "<div>\n",
       "<style scoped>\n",
       "    .dataframe tbody tr th:only-of-type {\n",
       "        vertical-align: middle;\n",
       "    }\n",
       "\n",
       "    .dataframe tbody tr th {\n",
       "        vertical-align: top;\n",
       "    }\n",
       "\n",
       "    .dataframe thead th {\n",
       "        text-align: right;\n",
       "    }\n",
       "</style>\n",
       "<table border=\"1\" class=\"dataframe\">\n",
       "  <thead>\n",
       "    <tr style=\"text-align: right;\">\n",
       "      <th></th>\n",
       "      <th>annotation</th>\n",
       "      <th>datasource</th>\n",
       "      <th>end</th>\n",
       "      <th>external_id</th>\n",
       "      <th>selection</th>\n",
       "      <th>semantic_class</th>\n",
       "      <th>start</th>\n",
       "      <th>sysrev_id</th>\n",
       "      <th>text</th>\n",
       "      <th>entities</th>\n",
       "    </tr>\n",
       "  </thead>\n",
       "  <tbody>\n",
       "    <tr>\n",
       "      <th>0</th>\n",
       "      <td>α-KGDH</td>\n",
       "      <td>pubmed</td>\n",
       "      <td>286.0</td>\n",
       "      <td>29211711</td>\n",
       "      <td>α-KGDH</td>\n",
       "      <td>gene</td>\n",
       "      <td>280.0</td>\n",
       "      <td>1524023</td>\n",
       "      <td>Histone modifications, such as the frequently ...</td>\n",
       "      <td>((succinyl, -, CoA), (succinyl, -, CoA), (succ...</td>\n",
       "    </tr>\n",
       "    <tr>\n",
       "      <th>1</th>\n",
       "      <td>KAT2A</td>\n",
       "      <td>pubmed</td>\n",
       "      <td>391.0</td>\n",
       "      <td>29211711</td>\n",
       "      <td>KAT2A</td>\n",
       "      <td>gene</td>\n",
       "      <td>386.0</td>\n",
       "      <td>1524023</td>\n",
       "      <td>Histone modifications, such as the frequently ...</td>\n",
       "      <td>((succinyl, -, CoA), (succinyl, -, CoA), (succ...</td>\n",
       "    </tr>\n",
       "    <tr>\n",
       "      <th>2</th>\n",
       "      <td>GCN5</td>\n",
       "      <td>pubmed</td>\n",
       "      <td>411.0</td>\n",
       "      <td>29211711</td>\n",
       "      <td>GCN5</td>\n",
       "      <td>gene</td>\n",
       "      <td>407.0</td>\n",
       "      <td>1524023</td>\n",
       "      <td>Histone modifications, such as the frequently ...</td>\n",
       "      <td>((succinyl, -, CoA), (succinyl, -, CoA), (succ...</td>\n",
       "    </tr>\n",
       "    <tr>\n",
       "      <th>3</th>\n",
       "      <td>succinyl-CoA</td>\n",
       "      <td>pubmed</td>\n",
       "      <td>493.0</td>\n",
       "      <td>29211711</td>\n",
       "      <td>succinyl-CoA</td>\n",
       "      <td>gene</td>\n",
       "      <td>481.0</td>\n",
       "      <td>1524023</td>\n",
       "      <td>Histone modifications, such as the frequently ...</td>\n",
       "      <td>((succinyl, -, CoA), (succinyl, -, CoA), (succ...</td>\n",
       "    </tr>\n",
       "    <tr>\n",
       "      <th>4</th>\n",
       "      <td>KAT2A</td>\n",
       "      <td>pubmed</td>\n",
       "      <td>509.0</td>\n",
       "      <td>29211711</td>\n",
       "      <td>KAT2A</td>\n",
       "      <td>gene</td>\n",
       "      <td>504.0</td>\n",
       "      <td>1524023</td>\n",
       "      <td>Histone modifications, such as the frequently ...</td>\n",
       "      <td>((succinyl, -, CoA), (succinyl, -, CoA), (succ...</td>\n",
       "    </tr>\n",
       "  </tbody>\n",
       "</table>\n",
       "</div>"
      ],
      "text/plain": [
       "     annotation datasource    end  external_id     selection semantic_class  \\\n",
       "0        α-KGDH     pubmed  286.0     29211711        α-KGDH           gene   \n",
       "1         KAT2A     pubmed  391.0     29211711         KAT2A           gene   \n",
       "2          GCN5     pubmed  411.0     29211711          GCN5           gene   \n",
       "3  succinyl-CoA     pubmed  493.0     29211711  succinyl-CoA           gene   \n",
       "4         KAT2A     pubmed  509.0     29211711         KAT2A           gene   \n",
       "\n",
       "   start  sysrev_id                                               text  \\\n",
       "0  280.0    1524023  Histone modifications, such as the frequently ...   \n",
       "1  386.0    1524023  Histone modifications, such as the frequently ...   \n",
       "2  407.0    1524023  Histone modifications, such as the frequently ...   \n",
       "3  481.0    1524023  Histone modifications, such as the frequently ...   \n",
       "4  504.0    1524023  Histone modifications, such as the frequently ...   \n",
       "\n",
       "                                            entities  \n",
       "0  ((succinyl, -, CoA), (succinyl, -, CoA), (succ...  \n",
       "1  ((succinyl, -, CoA), (succinyl, -, CoA), (succ...  \n",
       "2  ((succinyl, -, CoA), (succinyl, -, CoA), (succ...  \n",
       "3  ((succinyl, -, CoA), (succinyl, -, CoA), (succ...  \n",
       "4  ((succinyl, -, CoA), (succinyl, -, CoA), (succ...  "
      ]
     },
     "execution_count": 96,
     "metadata": {},
     "output_type": "execute_result"
    }
   ],
   "source": [
    "df = PySysrev.getAnnotations(3144)\n",
    "txt_list = []\n",
    "for txt in list(df['text']):\n",
    "    if txt is None:\n",
    "        txt_list.append(None)\n",
    "    else:\n",
    "        doc = nlp(txt)\n",
    "        txt_list.append(doc.ents)\n",
    "df['entities'] = txt_list\n",
    "df.head(5)"
   ]
  },
  {
   "cell_type": "markdown",
   "metadata": {},
   "source": [
    "We would also like to evaluate our model's performance with some metrics. To do so, we will find the sensitivity and specificity of the model, where sensitivity refers to the proportion of genes our model was able to correctly identify and specificity refers to the proportion of non-genes our model was able to able to exclude from annotating."
   ]
  },
  {
   "cell_type": "code",
   "execution_count": null,
   "metadata": {},
   "outputs": [],
   "source": [
    "true_genes = 0\n",
    "pred_genes = 0\n",
    "true_non_genes = 0\n",
    "pred_non_genes = 0\n",
    "nlp2 = spacy.load('en_core_web_sm')\n",
    "for text_id in list(set(list(df['external_id']))):\n",
    "    article_df = df.loc[df['external_id'] == text_id]\n",
    "    true_annotations = list(article_df['annotation'])\n",
    "    if list(article_df['entities'])[0] is not None:\n",
    "        predict_annotations = [str(x) for x in list(list(article_df['entities'])[0])]\n",
    "    else:\n",
    "        continue\n",
    "    article_text = list(article_df['text'])[0]\n",
    "    pred_genes += len([value for value in predict_annotations if value in true_annotations])\n",
    "    true_genes += len(true_annotations)\n",
    "    doc2 = nlp2(article_text)\n",
    "    for token in doc2:\n",
    "        if str(token) not in true_annotations:\n",
    "            true_non_genes += 1\n",
    "            if str(token) not in predict_annotations:\n",
    "                pred_non_genes += 1"
   ]
  },
  {
   "cell_type": "code",
   "execution_count": 95,
   "metadata": {},
   "outputs": [
    {
     "name": "stdout",
     "output_type": "stream",
     "text": [
      "Sensitivity:  0.170817906429\n",
      "Specificity:  0.993726255113\n"
     ]
    }
   ],
   "source": [
    "from __future__ import division\n",
    "print (\"Sensitivity: \", pred_genes / true_genes)\n",
    "print (\"Specificity: \", pred_non_genes / true_non_genes)"
   ]
  }
 ],
 "metadata": {
  "kernelspec": {
   "display_name": "Python 2",
   "language": "python",
   "name": "python2"
  },
  "language_info": {
   "codemirror_mode": {
    "name": "ipython",
    "version": 2
   },
   "file_extension": ".py",
   "mimetype": "text/x-python",
   "name": "python",
   "nbconvert_exporter": "python",
   "pygments_lexer": "ipython2",
   "version": "2.7.12"
  }
 },
 "nbformat": 4,
 "nbformat_minor": 2
}
