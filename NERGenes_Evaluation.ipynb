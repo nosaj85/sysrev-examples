{
 "cells": [
  {
   "cell_type": "markdown",
   "metadata": {},
   "source": [
    "# Gene NER using PySysrev and Human Review (Part III)\n",
    "<span style=\"color:gray\">James Borden, Nole Lin</span>\n",
    "\n",
    "In this series on the Sysrev tool, we build a Named Entity Recognition (NER) model for genes.  We use data from 2000 abstracts reviewed in the sysrev [Gene Hunter project](https://sysrev.com/p/3144). This third part of the series details how we can evaluate our model .\n",
    "\n",
    "In this notebook we:\n",
    "\n",
    "1. **Evaluate Model** on Gene Hunter text to test performance\n",
    "2. **Demonstrate** our model in action on example sentences"
   ]
  },
  {
   "cell_type": "markdown",
   "metadata": {},
   "source": [
    "We start by training on our processed data and separate 20% of the training set into a test set. We will train for 20 epochs with a dropout rate of 0.2"
   ]
  },
  {
   "cell_type": "code",
   "execution_count": 1,
   "metadata": {},
   "outputs": [
    {
     "name": "stdout",
     "output_type": "stream",
     "text": [
      "Warning: Unnamed vectors -- this won't allow multiple vectors models to be loaded. (Shape: (0, 0))\n"
     ]
    }
   ],
   "source": [
    "from __future__ import unicode_literals, print_function\n",
    "import spacy\n",
    "import PySysrev\n",
    "import random, sys\n",
    "\n",
    "TRAIN_DATA = PySysrev.processAnnotations(project_id=3144, label='GENE')\n",
    "uniq_articles = list(set([x[0] for x in TRAIN_DATA]))\n",
    "test_size = int(0.2 * len(uniq_articles))\n",
    "test_articles = uniq_articles[0:test_size]\n",
    "\n",
    "nlp = spacy.blank('en')\n",
    "nlp.meta['name'] = 'gene'\n",
    "\n",
    "ner = nlp.create_pipe('ner')\n",
    "ner.add_label('GENE')\n",
    "\n",
    "nlp.add_pipe(ner)\n",
    "optimizer = nlp.begin_training()\n",
    "\n",
    "epochs = 20\n",
    "\n",
    "for itn in range(epochs):\n",
    "    random.shuffle(TRAIN_DATA)\n",
    "    losses = {}\n",
    "    test_range = range(test_size)\n",
    "    text = [item[0] for item in TRAIN_DATA if item[0] not in test_articles] #get training text items\n",
    "    annotations = [item[1] for item in TRAIN_DATA if item[0] not in test_articles] #get training annotations\n",
    "    \n",
    "    nlp.update(text, annotations, sgd=optimizer, drop=0.2,losses=losses)"
   ]
  },
  {
   "cell_type": "markdown",
   "metadata": {},
   "source": [
    "Now that we have our model, let's evaluate its performance. Here is a function that gets the sensitivity and specificity of our model when testing on the test set or train set."
   ]
  },
  {
   "cell_type": "code",
   "execution_count": 2,
   "metadata": {},
   "outputs": [],
   "source": [
    "from __future__ import division\n",
    "\n",
    "def get_metrics(test_or_train, model):\n",
    "    if test_or_train == 'test':\n",
    "        section = [x for x in TRAIN_DATA if x[0] in test_articles]\n",
    "    elif test_or_train == 'train':\n",
    "        section = [x for x in TRAIN_DATA if x[0] not in test_articles]\n",
    "    true_genes = 0\n",
    "    pred_genes = 0\n",
    "    true_non_genes = 0\n",
    "    pred_non_genes = 0\n",
    "    nlp2 = spacy.load('en_core_web_sm')\n",
    "    for txt in section:\n",
    "        if txt[0] is not None:\n",
    "            doc = model(txt[0])\n",
    "            predict_annotations = [str(x) for x in list(doc.ents)]\n",
    "            entities = txt[1]['entities']\n",
    "            true_annotations = [txt[0][x[0]:x[1]] for x in entities]\n",
    "            pred_genes += len([value for value in predict_annotations if value in true_annotations])\n",
    "            true_genes += len(true_annotations)\n",
    "            doc2 = nlp2(txt[0])\n",
    "            for token in doc2:\n",
    "                if str(token) not in true_annotations:\n",
    "                    true_non_genes += 1\n",
    "                    if str(token) not in predict_annotations:\n",
    "                        pred_non_genes += 1\n",
    "    return pred_genes / true_genes, pred_non_genes / true_non_genes"
   ]
  },
  {
   "cell_type": "code",
   "execution_count": 4,
   "metadata": {},
   "outputs": [],
   "source": [
    "test_sensitivity, test_specificity = get_metrics('test', nlp)\n",
    "train_sensitivity, train_specificity = get_metrics('train', nlp)"
   ]
  },
  {
   "cell_type": "markdown",
   "metadata": {},
   "source": [
    "Below we see the values for our model's metrics. Sensitivity refers to the proportion of genes that the model correctly identified as genes. Specificity refers to the proportion of non-genes that the model correctly identified as non-genes. The bar chart shows a respectable performance by our trained model."
   ]
  },
  {
   "cell_type": "code",
   "execution_count": 13,
   "metadata": {},
   "outputs": [
    {
     "data": {
      "text/html": [
       "<iframe id=\"igraph\" scrolling=\"no\" style=\"border:none;\" seamless=\"seamless\" src=\"https://plot.ly/~nlin5/2.embed\" height=\"525px\" width=\"100%\"></iframe>"
      ],
      "text/plain": [
       "<plotly.tools.PlotlyDisplay object>"
      ]
     },
     "execution_count": 13,
     "metadata": {},
     "output_type": "execute_result"
    }
   ],
   "source": [
    "import plotly as py\n",
    "import plotly.graph_objs as go\n",
    "\n",
    "data = [go.Bar(\n",
    "            x=['test_sensitivity', 'test_specificity', 'train_sensitivity', 'train_specificity'],\n",
    "            y=[test_sensitivity, test_specificity, train_sensitivity, train_specificity]\n",
    "    )]\n",
    "\n",
    "py.plotly.iplot(data)"
   ]
  },
  {
   "cell_type": "markdown",
   "metadata": {},
   "source": [
    "Now, we look at specific sentences to see how our model performs in detecting gene terms. Here, it's able to extract \"HMOX\" and \"UGT1A1\" correctly and exclude the rest of the words."
   ]
  },
  {
   "cell_type": "code",
   "execution_count": 28,
   "metadata": {},
   "outputs": [
    {
     "data": {
      "text/html": [
       "<div style='color:red;padding-left:50px'><div class=\"entities\" style=\"line-height: 2.5\">The aim of our study was to assess the possible relationships among heme oxygenase (\n",
       "<mark class=\"entity\" style=\"background: #ddd; padding: 0.45em 0.6em; margin: 0 0.25em; line-height: 1; border-radius: 0.35em; box-decoration-break: clone; -webkit-box-decoration-break: clone\">\n",
       "    HMOX\n",
       "    <span style=\"font-size: 0.8em; font-weight: bold; line-height: 1; border-radius: 0.35em; text-transform: uppercase; vertical-align: middle; margin-left: 0.5rem\">GENE</span>\n",
       "</mark>\n",
       "), bilirubin UDP-glucuronosyl transferase (\n",
       "<mark class=\"entity\" style=\"background: #ddd; padding: 0.45em 0.6em; margin: 0 0.25em; line-height: 1; border-radius: 0.35em; box-decoration-break: clone; -webkit-box-decoration-break: clone\">\n",
       "    UGT1A1\n",
       "    <span style=\"font-size: 0.8em; font-weight: bold; line-height: 1; border-radius: 0.35em; text-transform: uppercase; vertical-align: middle; margin-left: 0.5rem\">GENE</span>\n",
       "</mark>\n",
       ") promoter gene variations, serum bilirubin levels, and Fabry disease (FD).</div></div>"
      ],
      "text/plain": [
       "<IPython.core.display.HTML object>"
      ]
     },
     "metadata": {},
     "output_type": "display_data"
    }
   ],
   "source": [
    "from spacy import displacy\n",
    "from IPython.core.display import display, HTML\n",
    "\n",
    "doc = nlp(\"The aim of our study was to assess the possible relationships among heme oxygenase (HMOX), bilirubin UDP-glucuronosyl transferase (UGT1A1) promoter gene variations, serum bilirubin levels, and Fabry disease (FD).\")\n",
    "html_ner_prediction = spacy.displacy.render(doc, style='ent')\n",
    "\n",
    "display(HTML(\"<div style='color:red;padding-left:50px'>{}</div>\".format(html_ner_prediction)))"
   ]
  },
  {
   "cell_type": "markdown",
   "metadata": {},
   "source": [
    "Again, the model is able to nicely detect an unconventional gene name with a hyphen in the term."
   ]
  },
  {
   "cell_type": "code",
   "execution_count": 29,
   "metadata": {},
   "outputs": [
    {
     "data": {
      "text/html": [
       "<div style='color:red;padding-left:50px'><div class=\"entities\" style=\"line-height: 2.5\">Differential Requirement of Human Cytomegalovirus \n",
       "<mark class=\"entity\" style=\"background: #ddd; padding: 0.45em 0.6em; margin: 0 0.25em; line-height: 1; border-radius: 0.35em; box-decoration-break: clone; -webkit-box-decoration-break: clone\">\n",
       "    UL112-113\n",
       "    <span style=\"font-size: 0.8em; font-weight: bold; line-height: 1; border-radius: 0.35em; text-transform: uppercase; vertical-align: middle; margin-left: 0.5rem\">GENE</span>\n",
       "</mark>\n",
       " Protein Isoforms for Viral Replication.</div></div>"
      ],
      "text/plain": [
       "<IPython.core.display.HTML object>"
      ]
     },
     "metadata": {},
     "output_type": "display_data"
    }
   ],
   "source": [
    "doc = nlp(\"Differential Requirement of Human Cytomegalovirus UL112-113 Protein Isoforms for Viral Replication.\")\n",
    "html_ner_prediction = spacy.displacy.render(doc, style='ent')\n",
    "\n",
    "display(HTML(\"<div style='color:red;padding-left:50px'>{}</div>\".format(html_ner_prediction)))"
   ]
  },
  {
   "cell_type": "markdown",
   "metadata": {},
   "source": [
    "However, we now see some flaws in our model. The below sentence contains two gene names \"MDM2\" and \"p53.\" But because they are separated by a slash instead of a space, the model is unable to identify the genes."
   ]
  },
  {
   "cell_type": "code",
   "execution_count": 30,
   "metadata": {},
   "outputs": [
    {
     "data": {
      "text/html": [
       "<div style='color:red;padding-left:50px'><div class=\"entities\" style=\"line-height: 2.5\">Furthermore, our results demonstrate that miR-365 functions as an upstream regulator of MDM2/p53 expression, cell cycle progression and apoptosis in trophoblasts</div></div>"
      ],
      "text/plain": [
       "<IPython.core.display.HTML object>"
      ]
     },
     "metadata": {},
     "output_type": "display_data"
    }
   ],
   "source": [
    "doc = nlp(\"Furthermore, our results demonstrate that miR-365 functions as an upstream regulator of MDM2/p53 expression, cell cycle progression and apoptosis in trophoblasts\")\n",
    "html_ner_prediction = spacy.displacy.render(doc, style='ent')\n",
    "\n",
    "display(HTML(\"<div style='color:red;padding-left:50px'>{}</div>\".format(html_ner_prediction)))"
   ]
  },
  {
   "cell_type": "markdown",
   "metadata": {},
   "source": [
    "Other times, the model is only able to get one of the genes in the sentence. \"SPI\" is also a gene, but is not highlighted as only \"malat1\" is."
   ]
  },
  {
   "cell_type": "code",
   "execution_count": 31,
   "metadata": {},
   "outputs": [
    {
     "data": {
      "text/html": [
       "<div style='color:red;padding-left:50px'><div class=\"entities\" style=\"line-height: 2.5\">showed that \n",
       "<mark class=\"entity\" style=\"background: #ddd; padding: 0.45em 0.6em; margin: 0 0.25em; line-height: 1; border-radius: 0.35em; box-decoration-break: clone; -webkit-box-decoration-break: clone\">\n",
       "    malat1\n",
       "    <span style=\"font-size: 0.8em; font-weight: bold; line-height: 1; border-radius: 0.35em; text-transform: uppercase; vertical-align: middle; margin-left: 0.5rem\">GENE</span>\n",
       "</mark>\n",
       " M5 interacts with the C-terminal domain of SP1 by RNA immunoprecipitation (RIP) assay coupled with UV cross-linking</div></div>"
      ],
      "text/plain": [
       "<IPython.core.display.HTML object>"
      ]
     },
     "metadata": {},
     "output_type": "display_data"
    }
   ],
   "source": [
    "doc = nlp(\"showed that malat1\\xa0M5 interacts with the C-terminal domain of SP1 by RNA immunoprecipitation (RIP) assay coupled with UV cross-linking\")\n",
    "html_ner_prediction = spacy.displacy.render(doc, style='ent')\n",
    "\n",
    "display(HTML(\"<div style='color:red;padding-left:50px'>{}</div>\".format(html_ner_prediction)))"
   ]
  },
  {
   "cell_type": "markdown",
   "metadata": {},
   "source": [
    "Overall, our trained model shows promising results in the test and train metrics, as well as specific identification tasks. Some things we could do to improve model performance would be to look into tuning hyperparameters such as the number of epochs and the dropout rate. But with our current working model, we will look into turning it into a web application with an API as our next step, documented in the next post."
   ]
  }
 ],
 "metadata": {
  "kernelspec": {
   "display_name": "Python 2",
   "language": "python",
   "name": "python2"
  },
  "language_info": {
   "codemirror_mode": {
    "name": "ipython",
    "version": 2
   },
   "file_extension": ".py",
   "mimetype": "text/x-python",
   "name": "python",
   "nbconvert_exporter": "python",
   "pygments_lexer": "ipython2",
   "version": "2.7.12"
  }
 },
 "nbformat": 4,
 "nbformat_minor": 2
}
