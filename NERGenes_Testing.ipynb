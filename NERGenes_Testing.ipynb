{
 "cells": [
  {
   "cell_type": "markdown",
   "metadata": {},
   "source": [
    "# Important Genes - Gene Hunter Part IV\n",
    "<span style=\"color:gray\">James Borden, Nole Lin</span>\n",
    "\n",
    "What if you could instantly find the important genes for any medical query?  Do you know what genes matter for prostate cancer?  Cystic Fibrosis?  What about longevity?  In this post we show you how to use the gene hunter ner model to and `Bio.Entrez` to answer these questions.  \n",
    "\n",
    "Counting how often people reference genes in the context of these diseases is one way to answer this question.  We'll put our gene hunter model to use for this.  You can learn more about the Gene NER model from the original sysrev [syrev.com/p/3144](https://sysrev.com/p/3144) or from our other blog posts [gene hunter 1-3](https://blog.sysrev.com/)).  "
   ]
  },
  {
   "cell_type": "code",
   "execution_count": 3,
   "metadata": {},
   "outputs": [
    {
     "data": {
      "text/html": [
       "<div style='background-color: lightblue; padding:10px; text-align:center;'><div class=\"entities\" style=\"line-height: 2.5\">My favorite genes are \n",
       "<mark class=\"entity\" style=\"background: #ddd; padding: 0.45em 0.6em; margin: 0 0.25em; line-height: 1; border-radius: 0.35em; box-decoration-break: clone; -webkit-box-decoration-break: clone\">\n",
       "    p53\n",
       "    <span style=\"font-size: 0.8em; font-weight: bold; line-height: 1; border-radius: 0.35em; text-transform: uppercase; vertical-align: middle; margin-left: 0.5rem\">GENE</span>\n",
       "</mark>\n",
       " and \n",
       "<mark class=\"entity\" style=\"background: #ddd; padding: 0.45em 0.6em; margin: 0 0.25em; line-height: 1; border-radius: 0.35em; box-decoration-break: clone; -webkit-box-decoration-break: clone\">\n",
       "    MDM2\n",
       "    <span style=\"font-size: 0.8em; font-weight: bold; line-height: 1; border-radius: 0.35em; text-transform: uppercase; vertical-align: middle; margin-left: 0.5rem\">GENE</span>\n",
       "</mark>\n",
       ". CO2 is not a gene.</div></div>"
      ],
      "text/plain": [
       "<IPython.core.display.HTML object>"
      ]
     },
     "metadata": {},
     "output_type": "display_data"
    }
   ],
   "source": [
    "import PySysrev, spacy, urllib2, pickle, IPython.display, urllib\n",
    "\n",
    "nlp = PySysrev.getModel('gene_ner')\n",
    "\n",
    "display(IPython.display\n",
    "        .HTML(\"<div style='background-color: lightblue; padding:10px; text-align:center;'>{}</div>\"\n",
    "        .format(spacy.displacy.render(nlp(unicode(\"My favorite genes are p53 and MDM2. CO2 is not a gene.\")), style='ent'))))"
   ]
  },
  {
   "cell_type": "markdown",
   "metadata": {},
   "source": [
    "The above shows how to load the gene hunter `gene_ner` model.  Soon sysrev will release a **model store** where you can easily get all the models we build.  The gene_ner model isn't perfect, but it's smart enough to ignore some obvious non-gene acronyms like CO2 in the above text.  Next we'll find some longevity publications.\n",
    "\n",
    "# Search for Longevity Publications\n",
    "NCBI publishes some extremely useful tools for querying their enormous pubmed literature database.  Below we use the python `Bio.Entrez` client to grab all 40916 publications matching the query \"longevity\". "
   ]
  },
  {
   "cell_type": "code",
   "execution_count": 4,
   "metadata": {},
   "outputs": [
    {
     "name": "stdout",
     "output_type": "stream",
     "text": [
      "example pmid: 30358721 number of pmids: 40916\n"
     ]
    }
   ],
   "source": [
    "import Bio.Entrez\n",
    "Bio.Entrez.email = \"info@insilica.co\"\n",
    "entrez_search    = Bio.Entrez.esearch(db=\"pubmed\",retmax=100000,term=\"longevity\",idtype=\"pmid\")\n",
    "pmids            = Bio.Entrez.read(entrez_search)[\"IdList\"]\n",
    "print(\"example pmid: {} number of pmids: {}\".format(pmids[1],len(pmids)))"
   ]
  },
  {
   "cell_type": "markdown",
   "metadata": {},
   "source": [
    "Accessing medical abstracts from pubmed identifiers is pretty easy.  We could use `Bio.Entrez` for this as well, but PySysrev actually supports a clone of pubmed with slightly faster load times.  Next we'll get some abstracts and start annotating them with the `gene_ner` model.\n",
    "\n",
    "# Tag Longevity Publications\n",
    "PySysrev will soon release a **data store** where users can access supported datasets.  The below call `PySysrev.getEntity(resource,id)` is a sneak peak of this.  `getEntity` will let subscribed users have fast access to entities from pubmed, arxiv, sysrev reviews, and other datasets.  \n",
    "\n",
    "We use `PySysrev.getEntity` together with `nlp(unicode_value).ents` to find all the genes annotated in each medical abstracts. "
   ]
  },
  {
   "cell_type": "code",
   "execution_count": 11,
   "metadata": {},
   "outputs": [
    {
     "name": "stdout",
     "output_type": "stream",
     "text": [
      "\n",
      "[('SIRT1', 1504), ('IGF-1', 991), ('P53', 564), ('DAF-16', 547), ('APOE', 476), ('FOXO', 293), ('FOXO3', 246), ('IGF-I', 218), ('SOD1', 213), ('FOXO3A', 204), ('CO2', 175), ('SIR2', 158), ('IL-6', 157), ('DAF-2', 153), ('BCL-2', 143), ('SIRT3', 122), ('FOXO1', 114), ('SIRT6', 112), ('HSP70', 111), ('AMPK', 99)]\n"
     ]
    }
   ],
   "source": [
    "import pandas as pd, sys, collections\n",
    "\n",
    "def getGenes(pmid,i): \n",
    "    if(i%1000==0): sys.stdout.write(\".\")\n",
    "    abstract = PySysrev.getEntity('pubmed',pmid)\n",
    "    if(\"abstractText\" in abstract):\n",
    "        return nlp(unicode(abstract[\"abstractText\"][0])).ents\n",
    "    else: \n",
    "        return ()\n",
    "\n",
    "# ents        = [getGenes(pmid,i) for (i,pmid) in enumerate(pmids)]\n",
    "geneCounter = collections.Counter([str(ent).upper() for ent in list(sum(ents,()))])\n",
    "print(\"\\n{}\".format(geneCounter.most_common(20)))"
   ]
  },
  {
   "cell_type": "markdown",
   "metadata": {},
   "source": [
    "Finally we can plot the results.  Below you can see that '' is a frequently reference longevity gene.  Its interesting to note the long tail associated with these genes as well.  Perhaps there are no obvious 'driver' genes for longevity.  "
   ]
  },
  {
   "cell_type": "code",
   "execution_count": 13,
   "metadata": {},
   "outputs": [
    {
     "data": {
      "text/html": [
       "<script>requirejs.config({paths: { 'plotly': ['https://cdn.plot.ly/plotly-latest.min']},});if(!window.Plotly) {{require(['plotly'],function(plotly) {window.Plotly=plotly;});}}</script>"
      ],
      "text/vnd.plotly.v1+html": [
       "<script>requirejs.config({paths: { 'plotly': ['https://cdn.plot.ly/plotly-latest.min']},});if(!window.Plotly) {{require(['plotly'],function(plotly) {window.Plotly=plotly;});}}</script>"
      ]
     },
     "metadata": {},
     "output_type": "display_data"
    },
    {
     "data": {
      "application/vnd.plotly.v1+json": {
       "data": [
        {
         "type": "bar",
         "uid": "6fb52d44-d95a-11e8-8a32-9b99a34a5045",
         "x": [
          "SIRT1",
          "IGF-1",
          "P53",
          "DAF-16",
          "APOE",
          "FOXO",
          "FOXO3",
          "IGF-I",
          "SOD1",
          "FOXO3A",
          "CO2",
          "SIR2",
          "IL-6",
          "DAF-2",
          "BCL-2",
          "SIRT3",
          "FOXO1",
          "SIRT6",
          "HSP70",
          "AMPK"
         ],
         "y": [
          1504,
          991,
          564,
          547,
          476,
          293,
          246,
          218,
          213,
          204,
          175,
          158,
          157,
          153,
          143,
          122,
          114,
          112,
          111,
          99
         ]
        }
       ],
       "layout": {
        "title": "Top 20 Genes in Longevity Literature",
        "xaxis": {
         "title": "Gene Hunter Detected Gene"
        },
        "yaxis": {
         "title": "Count"
        }
       }
      },
      "text/html": [
       "<div id=\"0891b596-2b8a-4e3e-83c9-1cfa6eb42ad7\" style=\"height: 525px; width: 100%;\" class=\"plotly-graph-div\"></div><script type=\"text/javascript\">require([\"plotly\"], function(Plotly) { window.PLOTLYENV=window.PLOTLYENV || {};window.PLOTLYENV.BASE_URL=\"https://plot.ly\";Plotly.newPlot(\"0891b596-2b8a-4e3e-83c9-1cfa6eb42ad7\", [{\"y\": [1504, 991, 564, 547, 476, 293, 246, 218, 213, 204, 175, 158, 157, 153, 143, 122, 114, 112, 111, 99], \"x\": [\"SIRT1\", \"IGF-1\", \"P53\", \"DAF-16\", \"APOE\", \"FOXO\", \"FOXO3\", \"IGF-I\", \"SOD1\", \"FOXO3A\", \"CO2\", \"SIR2\", \"IL-6\", \"DAF-2\", \"BCL-2\", \"SIRT3\", \"FOXO1\", \"SIRT6\", \"HSP70\", \"AMPK\"], \"type\": \"bar\", \"uid\": \"6fb52d44-d95a-11e8-8a32-9b99a34a5045\"}], {\"title\": \"Top 20 Genes in Longevity Literature\", \"xaxis\": {\"title\": \"Gene Hunter Detected Gene\"}, \"yaxis\": {\"title\": \"Count\"}}, {\"linkText\": \"Export to plot.ly\", \"showLink\": false})});</script>"
      ],
      "text/vnd.plotly.v1+html": [
       "<div id=\"0891b596-2b8a-4e3e-83c9-1cfa6eb42ad7\" style=\"height: 525px; width: 100%;\" class=\"plotly-graph-div\"></div><script type=\"text/javascript\">require([\"plotly\"], function(Plotly) { window.PLOTLYENV=window.PLOTLYENV || {};window.PLOTLYENV.BASE_URL=\"https://plot.ly\";Plotly.newPlot(\"0891b596-2b8a-4e3e-83c9-1cfa6eb42ad7\", [{\"y\": [1504, 991, 564, 547, 476, 293, 246, 218, 213, 204, 175, 158, 157, 153, 143, 122, 114, 112, 111, 99], \"x\": [\"SIRT1\", \"IGF-1\", \"P53\", \"DAF-16\", \"APOE\", \"FOXO\", \"FOXO3\", \"IGF-I\", \"SOD1\", \"FOXO3A\", \"CO2\", \"SIR2\", \"IL-6\", \"DAF-2\", \"BCL-2\", \"SIRT3\", \"FOXO1\", \"SIRT6\", \"HSP70\", \"AMPK\"], \"type\": \"bar\", \"uid\": \"6fb52d44-d95a-11e8-8a32-9b99a34a5045\"}], {\"title\": \"Top 20 Genes in Longevity Literature\", \"xaxis\": {\"title\": \"Gene Hunter Detected Gene\"}, \"yaxis\": {\"title\": \"Count\"}}, {\"linkText\": \"Export to plot.ly\", \"showLink\": false})});</script>"
      ]
     },
     "metadata": {},
     "output_type": "display_data"
    }
   ],
   "source": [
    "import plotly\n",
    "plotly.offline.init_notebook_mode(connected=True) # required for plotly graphs w/out accounts\n",
    "\n",
    "layout = plotly.graph_objs.Layout(\n",
    "    title=\"Top 20 Genes in Longevity Literature\",\n",
    "    xaxis=dict(title='Gene Hunter Detected Gene'),\n",
    "    yaxis=dict(title=\"Count\")\n",
    ")\n",
    "\n",
    "bargraph = plotly.graph_objs.Bar(\n",
    "            x=[gene for gene, count in geneCounter.most_common(20)],\n",
    "            y=[count for gene, count in geneCounter.most_common(20)]\n",
    "        )\n",
    "\n",
    "fig = plotly.graph_objs.Figure(data=[bargraph], layout=layout)\n",
    "\n",
    "plotly.offline.iplot(fig, config={'showLink': False})"
   ]
  }
 ],
 "metadata": {
  "kernelspec": {
   "display_name": "Python [conda env:py27]",
   "language": "python",
   "name": "conda-env-py27-py"
  },
  "language_info": {
   "codemirror_mode": {
    "name": "ipython",
    "version": 2
   },
   "file_extension": ".py",
   "mimetype": "text/x-python",
   "name": "python",
   "nbconvert_exporter": "python",
   "pygments_lexer": "ipython2",
   "version": "2.7.15"
  }
 },
 "nbformat": 4,
 "nbformat_minor": 2
}
