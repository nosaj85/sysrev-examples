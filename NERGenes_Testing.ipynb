{
 "cells": [
  {
   "cell_type": "markdown",
   "metadata": {},
   "source": [
    "# Important Genes - Gene Hunter Part IV\n",
    "<span style=\"color:gray\">James Borden, Nole Lin</span>\n",
    "\n",
    "What if you could instantly find the important genes for any medical query?  Do you know what genes matter for prostate cancer?  Cystic Fibrosis?  What about heart attacks?  \n",
    "\n",
    "To answer these questions we need to identify genes in text.  We'll put our gene hunter model to use for this (see [gene hunter 1-3](https://blog.sysrev.com/)).  "
   ]
  },
  {
   "cell_type": "code",
   "execution_count": 3,
   "metadata": {},
   "outputs": [
    {
     "ename": "SyntaxError",
     "evalue": "from __future__ imports must occur at the beginning of the file (funcs.py, line 4)",
     "output_type": "error",
     "traceback": [
      "\u001b[0;36m  File \u001b[0;32m\"/home/thomas/miniconda3/envs/py27/lib/python2.7/site-packages/PySysrev/funcs.py\"\u001b[0;36m, line \u001b[0;32m4\u001b[0m\n\u001b[0;31m    from __future__ import unicode_literals, print_function\u001b[0m\n\u001b[0;31mSyntaxError\u001b[0m\u001b[0;31m:\u001b[0m from __future__ imports must occur at the beginning of the file\n"
     ]
    }
   ],
   "source": [
    "from __future__ import unicode_literals, print_function\n",
    "import PySysrev, spacy, urllib2, pickle, IPython.display, urllib\n",
    "\n",
    "# load the model from S3\n",
    "nlp = pickle.loads(urllib.urlopen(\"https://s3.amazonaws.com/sysrev-model/gene_model.pickle\").read())\n",
    "\n",
    "display(IPython.display\n",
    "        .HTML(\"<div style='background-color: lightblue; padding:10px; text-align:center;'>{}</div>\"\n",
    "        .format(spacy.displacy.render(nlp(\"My favorite genes are p53 and MDM2. CO2 is not a gene.\"), style='ent'))))"
   ]
  },
  {
   "cell_type": "markdown",
   "metadata": {},
   "source": [
    "# Search for Prostate Cancer Publications"
   ]
  },
  {
   "cell_type": "code",
   "execution_count": null,
   "metadata": {},
   "outputs": [],
   "source": [
    "import Bio.Entrez\n",
    "Bio.Entrez.email = \"info@insilica.co\"\n",
    "entrez_search    = Bio.Entrez.esearch(db=\"pubmed\",retmax=10,term=\"prostate cancer\",idtype=\"pmid\")\n",
    "pmids            = Bio.Entrez.read(entrez_search)[\"IdList\"]\n",
    "print(len(pmids))"
   ]
  },
  {
   "cell_type": "markdown",
   "metadata": {},
   "source": [
    "We can access PubMed articles through our Cassandra database and store it in a DataFrame. A sample of this is shown below."
   ]
  },
  {
   "cell_type": "code",
   "execution_count": null,
   "metadata": {},
   "outputs": [],
   "source": [
    "from cassandra.cluster import Cluster\n",
    "import pandas as pd\n",
    "cluster = Cluster()\n",
    "session = cluster.connect('biosource')\n",
    "\n",
    "def getPmidEnts(pmid,i):\n",
    "    if(i % 1000 == 0): sys.stdout.write(\".\")\n",
    "    query = 'SELECT pmid, \"abstractText\" FROM pubmed WHERE pmid = {}'.format(pmid)\n",
    "    df = pd.DataFrame(list(session.execute(query)))\n",
    "    if(len(df) != 0):\n",
    "        return nlp(unicode(df[\"abstractText\"][0])).ents \n",
    "    else: \n",
    "        return ()\n",
    "\n",
    "ents = [getPmidEnts(pmid,i) for (i,pmid) in enumerate(pmids[1:10000])]\n",
    "flatEnts = list(sum(ents,()))"
   ]
  },
  {
   "cell_type": "markdown",
   "metadata": {},
   "source": [
    "Now we apply our trained model to the text to find potential gene names in the articles. Note that the sample DataFrame shown doesn't have any gene names in the NER_Genes column, but the expanded DataFrame will."
   ]
  },
  {
   "cell_type": "code",
   "execution_count": null,
   "metadata": {},
   "outputs": [],
   "source": [
    "import collections\n",
    "c= collections.Counter([str(ent) for ent in flatEnts])\n",
    "print(c.most_common(20))"
   ]
  },
  {
   "cell_type": "markdown",
   "metadata": {},
   "source": [
    "What we can do with this new DataFrame with identified NER genes is to find out the most frequent genes found in the PubMed text. Below is a bar chart showing the top 20 most frequently listed genes in our database of PubMed articles."
   ]
  },
  {
   "cell_type": "code",
   "execution_count": null,
   "metadata": {},
   "outputs": [],
   "source": [
    "import plotly\n",
    "plotly.offline.init_notebook_mode(connected=True) # required for plotly graphs w/out accounts\n",
    "\n",
    "layout = go.Layout(\n",
    "    title=\"Top 20 Genes in Prostate Cancer Literature\",\n",
    "    xaxis=dict(title='Gene Hunter Detected Gene'),\n",
    "    yaxis=dict(title=\"Count\")\n",
    ")\n",
    "\n",
    "bargraph = plotly.graph_objs.Bar(\n",
    "            x=[gene for gene, count in c.most_common(20)],\n",
    "            y=[count for gene, count in c.most_common(20)]\n",
    "        )\n",
    "\n",
    "fig = plotly.graph_objs.Figure(data=[bargraph], layout=layout)\n",
    "\n",
    "plotly.offline.iplot(fig, config={'showLink': False})"
   ]
  }
 ],
 "metadata": {
  "kernelspec": {
   "display_name": "Python [conda env:py27]",
   "language": "python",
   "name": "conda-env-py27-py"
  },
  "language_info": {
   "codemirror_mode": {
    "name": "ipython",
    "version": 2
   },
   "file_extension": ".py",
   "mimetype": "text/x-python",
   "name": "python",
   "nbconvert_exporter": "python",
   "pygments_lexer": "ipython2",
   "version": "2.7.15"
  }
 },
 "nbformat": 4,
 "nbformat_minor": 2
}
