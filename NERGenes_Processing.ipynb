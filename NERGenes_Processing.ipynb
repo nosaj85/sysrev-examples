{
 "cells": [
  {
   "cell_type": "markdown",
   "metadata": {},
   "source": [
    "# Gene Recognition\n",
    "\n",
    "For this series of posts on the Sysrev tool, we will demonstrate how users can perform Named Entity Recognition (NER) with the annotated texts from the Gene Hunter project. The first part of the series describes how users can load and process the project texts for training with Python's spaCy library.\n",
    "\n",
    "In this notebook we:\n",
    "\n",
    "1. Download annotations from the sysrev.com Gene Hunter project (sysrev.com/p/3144)\n",
    "2. Format the annotations to feed into spaCy (https://spacy.io/)\n",
    "\n",
    "The Gene Hunter project was a 2000 article open online review of pubmed abstracts.  15 reviewers highlighted genes in text.  Sysrev data is accessible using the Sysrev Python client [PySysrev](https://github.com/sysrev/PySysrev).  \n",
    "\n",
    "## Text Processing\n",
    "Sysrev provides an API call to download data into a shape spaCy can handle:"
   ]
  },
  {
   "cell_type": "markdown",
   "metadata": {},
   "source": [
    "Let's look at the data in the Gene Hunter project"
   ]
  },
  {
   "cell_type": "code",
   "execution_count": 2,
   "metadata": {},
   "outputs": [
    {
     "data": {
      "text/html": [
       "<div>\n",
       "<style scoped>\n",
       "    .dataframe tbody tr th:only-of-type {\n",
       "        vertical-align: middle;\n",
       "    }\n",
       "\n",
       "    .dataframe tbody tr th {\n",
       "        vertical-align: top;\n",
       "    }\n",
       "\n",
       "    .dataframe thead th {\n",
       "        text-align: right;\n",
       "    }\n",
       "</style>\n",
       "<table border=\"1\" class=\"dataframe\">\n",
       "  <thead>\n",
       "    <tr style=\"text-align: right;\">\n",
       "      <th></th>\n",
       "      <th>annotation</th>\n",
       "      <th>datasource</th>\n",
       "      <th>end</th>\n",
       "      <th>external_id</th>\n",
       "      <th>selection</th>\n",
       "      <th>semantic_class</th>\n",
       "      <th>start</th>\n",
       "      <th>sysrev_id</th>\n",
       "      <th>text</th>\n",
       "    </tr>\n",
       "  </thead>\n",
       "  <tbody>\n",
       "    <tr>\n",
       "      <th>0</th>\n",
       "      <td>α-KGDH</td>\n",
       "      <td>pubmed</td>\n",
       "      <td>286.0</td>\n",
       "      <td>29211711</td>\n",
       "      <td>α-KGDH</td>\n",
       "      <td>gene</td>\n",
       "      <td>280.0</td>\n",
       "      <td>1524023</td>\n",
       "      <td>Histone modifications, such as the frequently ...</td>\n",
       "    </tr>\n",
       "    <tr>\n",
       "      <th>1</th>\n",
       "      <td>KAT2A</td>\n",
       "      <td>pubmed</td>\n",
       "      <td>391.0</td>\n",
       "      <td>29211711</td>\n",
       "      <td>KAT2A</td>\n",
       "      <td>gene</td>\n",
       "      <td>386.0</td>\n",
       "      <td>1524023</td>\n",
       "      <td>Histone modifications, such as the frequently ...</td>\n",
       "    </tr>\n",
       "    <tr>\n",
       "      <th>2</th>\n",
       "      <td>GCN5</td>\n",
       "      <td>pubmed</td>\n",
       "      <td>411.0</td>\n",
       "      <td>29211711</td>\n",
       "      <td>GCN5</td>\n",
       "      <td>gene</td>\n",
       "      <td>407.0</td>\n",
       "      <td>1524023</td>\n",
       "      <td>Histone modifications, such as the frequently ...</td>\n",
       "    </tr>\n",
       "    <tr>\n",
       "      <th>3</th>\n",
       "      <td>succinyl-CoA</td>\n",
       "      <td>pubmed</td>\n",
       "      <td>493.0</td>\n",
       "      <td>29211711</td>\n",
       "      <td>succinyl-CoA</td>\n",
       "      <td>gene</td>\n",
       "      <td>481.0</td>\n",
       "      <td>1524023</td>\n",
       "      <td>Histone modifications, such as the frequently ...</td>\n",
       "    </tr>\n",
       "    <tr>\n",
       "      <th>4</th>\n",
       "      <td>KAT2A</td>\n",
       "      <td>pubmed</td>\n",
       "      <td>509.0</td>\n",
       "      <td>29211711</td>\n",
       "      <td>KAT2A</td>\n",
       "      <td>gene</td>\n",
       "      <td>504.0</td>\n",
       "      <td>1524023</td>\n",
       "      <td>Histone modifications, such as the frequently ...</td>\n",
       "    </tr>\n",
       "  </tbody>\n",
       "</table>\n",
       "</div>"
      ],
      "text/plain": [
       "     annotation datasource    end  external_id     selection semantic_class  \\\n",
       "0        α-KGDH     pubmed  286.0     29211711        α-KGDH           gene   \n",
       "1         KAT2A     pubmed  391.0     29211711         KAT2A           gene   \n",
       "2          GCN5     pubmed  411.0     29211711          GCN5           gene   \n",
       "3  succinyl-CoA     pubmed  493.0     29211711  succinyl-CoA           gene   \n",
       "4         KAT2A     pubmed  509.0     29211711         KAT2A           gene   \n",
       "\n",
       "   start  sysrev_id                                               text  \n",
       "0  280.0    1524023  Histone modifications, such as the frequently ...  \n",
       "1  386.0    1524023  Histone modifications, such as the frequently ...  \n",
       "2  407.0    1524023  Histone modifications, such as the frequently ...  \n",
       "3  481.0    1524023  Histone modifications, such as the frequently ...  \n",
       "4  504.0    1524023  Histone modifications, such as the frequently ...  "
      ]
     },
     "execution_count": 2,
     "metadata": {},
     "output_type": "execute_result"
    }
   ],
   "source": [
    "# Basic view of the data we're working with\n",
    "import PySysrev\n",
    "df = PySysrev.getAnnotations(3144)\n",
    "df.head(5)"
   ]
  },
  {
   "cell_type": "markdown",
   "metadata": {},
   "source": [
    "In the above DataFrame, we can see the different genes (under the column \"selection\") identified in the text column. The start and end indices indicate where in the text the gene name can be found. Now, we'll call the processAnnotations function to get the Gene Hunter project data and format it for spaCy. The project id is 3144, the entity we want is genes, and we will save the output json as the file \"processed_output.json\""
   ]
  },
  {
   "cell_type": "code",
   "execution_count": 3,
   "metadata": {},
   "outputs": [],
   "source": [
    "project_id = 3144\n",
    "label = 'GENE'\n",
    "output_path = 'processed_output.json'\n",
    "PySysrev.processAnnotations(project_id, label, output_path)"
   ]
  },
  {
   "cell_type": "markdown",
   "metadata": {},
   "source": [
    "Let's take a look at the processed json. The data structure of the json file read into Python becomes a list of lists. For each individual list, we get the text as the first element (string), and the named entities of the text as the second element (dictionary). In the single key-value pair in the dictionary, we see that the value is another list of lists, where the start and end indices of the gene terms are located in the text."
   ]
  },
  {
   "cell_type": "code",
   "execution_count": 4,
   "metadata": {},
   "outputs": [
    {
     "data": {
      "text/plain": [
       "[u\"BACKGROUND: Olaparib is an oral poly(adenosine diphosphate-ribose) polymerase inhibitor that has promising antitumor activity in patients with metastatic breast cancer and a germline BRCA mutation.\\n\\nMETHODS: We conducted a randomized, open-label, phase 3 trial in which olaparib monotherapy was compared with standard therapy in patients with a germline BRCA mutation and human epidermal growth factor receptor type 2 (HER2)-negative metastatic breast cancer who had received no more than two previous chemotherapy regimens for metastatic disease. Patients were randomly assigned, in a 2:1 ratio, to receive olaparib tablets (300 mg twice daily) or standard therapy with single-agent chemotherapy of the physician's choice (capecitabine, eribulin, or vinorelbine in 21-day cycles). The primary end point was progression-free survival, which was assessed by blinded independent central review and was analyzed on an intention-to-treat basis.\\n\\nRESULTS: Of the 302 patients who underwent randomization, 205 were assigned to receive olaparib and 97 were assigned to receive standard therapy. Median progression-free survival was significantly longer in the olaparib group than in the standard-therapy group (7.0 months vs. 4.2 months; hazard ratio for disease progression or death, 0.58; 95% confidence interval, 0.43 to 0.80; P<0.001). The response rate was 59.9% in the olaparib group and 28.8% in the standard-therapy group. The rate of grade 3 or higher adverse events was 36.6% in the olaparib group and 50.5% in the standard-therapy group, and the rate of treatment discontinuation due to toxic effects was 4.9% and 7.7%, respectively.\\n\\nCONCLUSIONS: Among patients with HER2-negative metastatic breast cancer and a germline BRCA mutation, olaparib monotherapy provided a significant benefit over standard therapy; median progression-free survival was 2.8 months longer and the risk of disease progression or death was 42% lower with olaparib monotherapy than with standard therapy. (Funded by AstraZeneca; OlympiAD ClinicalTrials.gov number, NCT02000622 .).\",\n",
       " {u'entities': [[183, 187, u'GENE'],\n",
       "   [1726, 1730, u'GENE'],\n",
       "   [354, 358, u'GENE']]}]"
      ]
     },
     "execution_count": 4,
     "metadata": {},
     "output_type": "execute_result"
    }
   ],
   "source": [
    "import json\n",
    "with open('processed_output.json') as f:\n",
    "    data = json.load(f)\n",
    "    \n",
    "data[0]"
   ]
  },
  {
   "cell_type": "markdown",
   "metadata": {},
   "source": [
    "Now that we have our \"processed_output.json\" file, we are ready to input it into spaCy for training. This step will be detailed in the next post."
   ]
  }
 ],
 "metadata": {
  "kernelspec": {
   "display_name": "Python 2",
   "language": "python",
   "name": "python2"
  },
  "language_info": {
   "codemirror_mode": {
    "name": "ipython",
    "version": 2
   },
   "file_extension": ".py",
   "mimetype": "text/x-python",
   "name": "python",
   "nbconvert_exporter": "python",
   "pygments_lexer": "ipython2",
   "version": "2.7.12"
  }
 },
 "nbformat": 4,
 "nbformat_minor": 2
}
