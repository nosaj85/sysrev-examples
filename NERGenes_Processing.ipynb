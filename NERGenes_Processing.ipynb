{
 "cells": [
  {
   "cell_type": "markdown",
   "metadata": {},
   "source": [
    "# Gene Recognition\n",
    "\n",
    "In this series on the Sysrev tool, we demonstrate a Named Entity Recognition (NER) model with annotated genes from 2000 abstracts reviewed in the sysrev [Gene Hunter project](sysrev.com/p/3144). The first part of the series describes how users can *load and process* data for training with Python's spaCy library.\n",
    "\n",
    "In this notebook we:\n",
    "\n",
    "1. **Install PySysrev package** - [github.com/sysrev/PySysrev](https://github.com/sysrev/PySysrev)\n",
    "2. **Download Gene Annotations** from the sysrev.com Gene Hunter project - [sysrev.com/p/3144](https://sysrev.com/p/3144)\n",
    "3. **Format downloaded annotations** to feed into spaCy - [https://spacy.io/](https://spacy.io/)\n",
    "\n",
    "The Gene Hunter project was a 2000 article open online review of pubmed abstracts.  15 reviewers highlighted genes in text.  Sysrev data is accessible using the Sysrev Python client [PySysrev](https://github.com/sysrev/PySysrev). "
   ]
  },
  {
   "cell_type": "markdown",
   "metadata": {},
   "source": [
    "## Install PySysrev\n",
    "PySysrev is a python client written for [sysrev.com](https://sysrev.com).  It is built in `python 2.7` and depends on python packages `spacy`, `pandas`, `requests`,`plac`, and `pathlib`. If you have these dependencies you can install PySysrev with:\n",
    "\n",
    "`> pip install PySysrev`\n",
    "\n",
    "This notebook is available at [NERGenes_Processing.ipynb](https://github.com/sysrev/sysrev-examples/blob/master/NERGenes_Processing.ipynb) with a minimal working [conda environment](https://github.com/sysrev/sysrev-examples/blob/master/environment.yml)"
   ]
  },
  {
   "cell_type": "markdown",
   "metadata": {},
   "source": [
    "## Download Gene Annotations\n",
    "PySysrev provides an API call to download data into a shape spaCy can handle.\n",
    "Let's look at the data in the Gene Hunter project.  The gene hunter project has the `project_id` **3144** which is all we need to get data from `PySysrev.getAnnotations` api call."
   ]
  },
  {
   "cell_type": "code",
   "execution_count": 6,
   "metadata": {},
   "outputs": [
    {
     "data": {
      "text/html": [
       "<div>\n",
       "<style scoped>\n",
       "    .dataframe tbody tr th:only-of-type {\n",
       "        vertical-align: middle;\n",
       "    }\n",
       "\n",
       "    .dataframe tbody tr th {\n",
       "        vertical-align: top;\n",
       "    }\n",
       "\n",
       "    .dataframe thead th {\n",
       "        text-align: right;\n",
       "    }\n",
       "</style>\n",
       "<table border=\"1\" class=\"dataframe\">\n",
       "  <thead>\n",
       "    <tr style=\"text-align: right;\">\n",
       "      <th></th>\n",
       "      <th>annotation</th>\n",
       "      <th>datasource</th>\n",
       "      <th>end</th>\n",
       "      <th>external_id</th>\n",
       "      <th>selection</th>\n",
       "      <th>semantic_class</th>\n",
       "      <th>start</th>\n",
       "      <th>sysrev_id</th>\n",
       "      <th>text</th>\n",
       "    </tr>\n",
       "  </thead>\n",
       "  <tbody>\n",
       "    <tr>\n",
       "      <th>0</th>\n",
       "      <td>α-KGDH</td>\n",
       "      <td>pubmed</td>\n",
       "      <td>286.0</td>\n",
       "      <td>29211711</td>\n",
       "      <td>α-KGDH</td>\n",
       "      <td>gene</td>\n",
       "      <td>280.0</td>\n",
       "      <td>1524023</td>\n",
       "      <td>Histone modifications, such as the frequently ...</td>\n",
       "    </tr>\n",
       "    <tr>\n",
       "      <th>1</th>\n",
       "      <td>KAT2A</td>\n",
       "      <td>pubmed</td>\n",
       "      <td>391.0</td>\n",
       "      <td>29211711</td>\n",
       "      <td>KAT2A</td>\n",
       "      <td>gene</td>\n",
       "      <td>386.0</td>\n",
       "      <td>1524023</td>\n",
       "      <td>Histone modifications, such as the frequently ...</td>\n",
       "    </tr>\n",
       "    <tr>\n",
       "      <th>2</th>\n",
       "      <td>GCN5</td>\n",
       "      <td>pubmed</td>\n",
       "      <td>411.0</td>\n",
       "      <td>29211711</td>\n",
       "      <td>GCN5</td>\n",
       "      <td>gene</td>\n",
       "      <td>407.0</td>\n",
       "      <td>1524023</td>\n",
       "      <td>Histone modifications, such as the frequently ...</td>\n",
       "    </tr>\n",
       "    <tr>\n",
       "      <th>3</th>\n",
       "      <td>succinyl-CoA</td>\n",
       "      <td>pubmed</td>\n",
       "      <td>493.0</td>\n",
       "      <td>29211711</td>\n",
       "      <td>succinyl-CoA</td>\n",
       "      <td>gene</td>\n",
       "      <td>481.0</td>\n",
       "      <td>1524023</td>\n",
       "      <td>Histone modifications, such as the frequently ...</td>\n",
       "    </tr>\n",
       "    <tr>\n",
       "      <th>4</th>\n",
       "      <td>KAT2A</td>\n",
       "      <td>pubmed</td>\n",
       "      <td>509.0</td>\n",
       "      <td>29211711</td>\n",
       "      <td>KAT2A</td>\n",
       "      <td>gene</td>\n",
       "      <td>504.0</td>\n",
       "      <td>1524023</td>\n",
       "      <td>Histone modifications, such as the frequently ...</td>\n",
       "    </tr>\n",
       "  </tbody>\n",
       "</table>\n",
       "</div>"
      ],
      "text/plain": [
       "     annotation datasource    end  external_id     selection semantic_class  \\\n",
       "0        α-KGDH     pubmed  286.0     29211711        α-KGDH           gene   \n",
       "1         KAT2A     pubmed  391.0     29211711         KAT2A           gene   \n",
       "2          GCN5     pubmed  411.0     29211711          GCN5           gene   \n",
       "3  succinyl-CoA     pubmed  493.0     29211711  succinyl-CoA           gene   \n",
       "4         KAT2A     pubmed  509.0     29211711         KAT2A           gene   \n",
       "\n",
       "   start  sysrev_id                                               text  \n",
       "0  280.0    1524023  Histone modifications, such as the frequently ...  \n",
       "1  386.0    1524023  Histone modifications, such as the frequently ...  \n",
       "2  407.0    1524023  Histone modifications, such as the frequently ...  \n",
       "3  481.0    1524023  Histone modifications, such as the frequently ...  \n",
       "4  504.0    1524023  Histone modifications, such as the frequently ...  "
      ]
     },
     "execution_count": 6,
     "metadata": {},
     "output_type": "execute_result"
    }
   ],
   "source": [
    "import PySysrev\n",
    "PySysrev.getAnnotations(project_id=3144).head(5)"
   ]
  },
  {
   "cell_type": "markdown",
   "metadata": {},
   "source": [
    "In the above DataFrame we see user annotations of pubmed abstracts.  This annotation process involves (1) highlighting words, (2) assigning a **semantic_class** (gene in this case) and (3) assigning a text **annotation** to the selected text.  Each column described below:\n",
    "\n",
    "1. **annotation**: user supplied value for some highlighted text.\n",
    "2. **datasource**: the source of the annotated object.\n",
    "3. **end**: the character index of the end of highlighted text.\n",
    "4. **external_id**: the **datasource** identifier for the annotated object (pubmed id in this case, eg [29211711](https://www.ncbi.nlm.nih.gov/pubmed/29211711)].\n",
    "5. **selection**: the highlighted text.\n",
    "6. **semantic_class**: the assigned 'type' of the highlighted text (gene in this case).\n",
    "7. **start**: the character index of the start of the highlighted text. \n",
    "8. **sysrev_id**: a sysrev.com identifier for the annotated object\n",
    "9. **text**: the full text from the annotated object. \n",
    "\n",
    "You can see this annotation workflow in our [youtube video](https://www.youtube.com/watch?v=7UEzx_szkEw).\n",
    "\n",
    "we can see the different genes (under the column \"selection\") identified in the **annotation** column. The start and end indices indicate where in the text the gene name can be found. "
   ]
  },
  {
   "cell_type": "markdown",
   "metadata": {},
   "source": [
    "## Format for Spacy\n",
    "Now, we'll call the `PySysrev.processAnnotations` to get gene hunter data from sysrev in a format directly usable by Spacy. The project id is `3144`, the entity we want is `GENE`, and we will save the output json as the file `processed_output.json`"
   ]
  },
  {
   "cell_type": "code",
   "execution_count": 4,
   "metadata": {},
   "outputs": [],
   "source": [
    "PySysrev.processAnnotations(project_id=3144, label='GENE', output_path='processed_output.json')"
   ]
  },
  {
   "cell_type": "markdown",
   "metadata": {},
   "source": [
    "Let's take a look at the processed json. The data structure of the json file read into Python becomes a list of lists. For each individual list, we get:\n",
    "\n",
    "1. The **text** as the first element (string)\n",
    "2. The **entities** of the text as the second element (dictionary). \n",
    "\n",
    "The **entities** dictionary for each entry is a list of lists with one entry per annotated gene. Each entry contains the **start index** of an annotation, **end index** of an annotation, and the **semantic_class** of the annotation."
   ]
  },
  {
   "cell_type": "code",
   "execution_count": 32,
   "metadata": {},
   "outputs": [
    {
     "name": "stdout",
     "output_type": "stream",
     "text": [
      "text: BACKGROUND: Olaparib is an oral poly(adenosine diphosphate-ribose) polymerase inhibitor that has pro\n",
      "start:183,\tend:187,\tsemantic_class:GENE\n",
      "start:1726,\tend:1730,\tsemantic_class:GENE\n",
      "start:354,\tend:358,\tsemantic_class:GENE\n"
     ]
    }
   ],
   "source": [
    "import json, pprint\n",
    "(text,jobj) = json.load(open('processed_output.json'))[0]\n",
    "\n",
    "print(\"text: \" + text[0:100])\n",
    "\n",
    "for entity in jobj[\"entities\"]:\n",
    "    print(\"start:{},\\tend:{},\\tsemantic_class:{}\".format(entity[0],entity[1],entity[2]))"
   ]
  },
  {
   "cell_type": "markdown",
   "metadata": {},
   "source": [
    "Now that we have our \"processed_output.json\" file, we are ready to input it into spaCy for training. This step will be detailed in the next post."
   ]
  }
 ],
 "metadata": {
  "kernelspec": {
   "display_name": "Python [conda env:py27]",
   "language": "python",
   "name": "conda-env-py27-py"
  },
  "language_info": {
   "codemirror_mode": {
    "name": "ipython",
    "version": 2
   },
   "file_extension": ".py",
   "mimetype": "text/x-python",
   "name": "python",
   "nbconvert_exporter": "python",
   "pygments_lexer": "ipython2",
   "version": "2.7.15"
  }
 },
 "nbformat": 4,
 "nbformat_minor": 2
}
