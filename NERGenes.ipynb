{
 "cells": [
  {
   "cell_type": "markdown",
   "metadata": {},
   "source": [
    "# Gene Recognition\n",
    "\n",
    "In this notebook we:\n",
    "\n",
    "1. Download annotations from the sysrev.com gene hunter project (sysrev.com/p/3144)\n",
    "2. Use the (spacy)[https://spacy.io/] to build a model for automatically recognizing genes in text.\n",
    "\n",
    "The gene hunter project was a 2000 article open online review of pubmed abstracts.  15 reviewers highlighted genes in text.  Sysrev data is accessible using the syrev python client [pySysrev](https://github.com/sysrev/PySysrev).  \n",
    "\n",
    "## Text Processing\n",
    "Sysrev provides an api call to download data into a shape Spacy can handle:"
   ]
  },
  {
   "cell_type": "code",
   "execution_count": 2,
   "metadata": {},
   "outputs": [
    {
     "name": "stdout",
     "output_type": "stream",
     "text": [
      "  % Total    % Received % Xferd  Average Speed   Time    Time     Time  Current\n",
      "                                 Dload  Upload   Total   Spent    Left  Speed\n",
      "100 10.3M  100 10.3M    0     0  3589k      0  0:00:02  0:00:02 --:--:-- 3588k\n"
     ]
    }
   ],
   "source": [
    "# Retrieve project annotations\n",
    "! curl -X GET -d project-id=3144 -G https://sysrev.com/web-api/project-annotations > sysrev_output.json"
   ]
  },
  {
   "cell_type": "code",
   "execution_count": 2,
   "metadata": {},
   "outputs": [],
   "source": [
    "# Call Python client to format annotations for Spacy, and save processed output\n",
    "# Our label of interest is genes\n",
    "import PySysrev\n",
    "input_path = 'sysrev_output.json'\n",
    "label = 'GENE'\n",
    "output_path = 'processed_output.json'\n",
    "PySysrev.processAnnotations(input_path, label, output_path)"
   ]
  },
  {
   "cell_type": "code",
   "execution_count": null,
   "metadata": {},
   "outputs": [],
   "source": [
    "import random\n",
    "import json\n",
    "with open('sysrev_output.json') as f:\n",
    "    TRAIN_DATA = json.load(f)\n",
    "\n",
    "TRAIN_DATA"
   ]
  },
  {
   "cell_type": "markdown",
   "metadata": {},
   "source": [
    "## Training the Model\n"
   ]
  },
  {
   "cell_type": "code",
   "execution_count": 3,
   "metadata": {},
   "outputs": [
    {
     "name": "stdout",
     "output_type": "stream",
     "text": [
      "Warning: Unnamed vectors -- this won't allow multiple vectors models to be loaded. (Shape: (0, 0))\n",
      "current loss: 8377.95615092 | min_loss: 5000.0 | Steps since last min: 1\n",
      "current loss: 5071.10204883 | min_loss: 5000.0 | Steps since last min: 2\n",
      "current loss: 4337.21254523 | min_loss: 4337.21254523 | Steps since last min: 0\n",
      "current loss: 3815.78632474 | min_loss: 3815.78632474 | Steps since last min: 0\n",
      "current loss: 3485.6487403 | min_loss: 3485.6487403 | Steps since last min: 0\n",
      "current loss: 3168.37126738 | min_loss: 3168.37126738 | Steps since last min: 0\n",
      "current loss: 2970.61318064 | min_loss: 2970.61318064 | Steps since last min: 0\n",
      "current loss: 2682.66895263 | min_loss: 2682.66895263 | Steps since last min: 0\n",
      "current loss: 2670.88276027 | min_loss: 2670.88276027 | Steps since last min: 0\n",
      "current loss: 2393.32225931 | min_loss: 2393.32225931 | Steps since last min: 0\n",
      "current loss: 2173.69761541 | min_loss: 2173.69761541 | Steps since last min: 0\n",
      "current loss: 2137.0622847 | min_loss: 2137.0622847 | Steps since last min: 0\n",
      "current loss: 1945.48313314 | min_loss: 1945.48313314 | Steps since last min: 0\n",
      "current loss: 1923.40987731 | min_loss: 1923.40987731 | Steps since last min: 0\n",
      "current loss: 1607.8995875 | min_loss: 1607.8995875 | Steps since last min: 0\n",
      "current loss: 1588.95480439 | min_loss: 1588.95480439 | Steps since last min: 0\n",
      "current loss: 1487.5622716 | min_loss: 1487.5622716 | Steps since last min: 0\n",
      "current loss: 1477.09730198 | min_loss: 1477.09730198 | Steps since last min: 0\n",
      "current loss: 1429.36533882 | min_loss: 1429.36533882 | Steps since last min: 0\n",
      "current loss: 1386.20751931 | min_loss: 1386.20751931 | Steps since last min: 0\n"
     ]
    }
   ],
   "source": [
    "processed_path = 'processed_output.json'\n",
    "model_path = 'sysrev_gene'\n",
    "PySysrev.trainAnnotations(processed_path, model_path)"
   ]
  },
  {
   "cell_type": "code",
   "execution_count": 8,
   "metadata": {},
   "outputs": [
    {
     "name": "stdout",
     "output_type": "stream",
     "text": [
      "(u'GENE', u'Nup98')\n",
      "(u'GENE', u'Wdr82')\n"
     ]
    }
   ],
   "source": [
    "# Test our trained model on a test text\n",
    "from __future__ import unicode_literals\n",
    "import spacy\n",
    "\n",
    "test_text = \"Depletion of Nup98 or Wdr82 abolishes Set1A recruitment to chromatin and subsequently ablates H3K4me3 at adjacent promoters.\"\n",
    "\n",
    "nlp2 = spacy.load('sysrev_gene')\n",
    "doc2 = nlp2(test_text)\n",
    "for ent in doc2.ents:\n",
    "    print(ent.label_, ent.text)"
   ]
  },
  {
   "cell_type": "code",
   "execution_count": 9,
   "metadata": {},
   "outputs": [],
   "source": [
    "# Use Python client to get data for the project\n",
    "df = PySysrev.getAnnotations(3144)"
   ]
  },
  {
   "cell_type": "code",
   "execution_count": 10,
   "metadata": {},
   "outputs": [
    {
     "data": {
      "text/html": [
       "<div>\n",
       "<style scoped>\n",
       "    .dataframe tbody tr th:only-of-type {\n",
       "        vertical-align: middle;\n",
       "    }\n",
       "\n",
       "    .dataframe tbody tr th {\n",
       "        vertical-align: top;\n",
       "    }\n",
       "\n",
       "    .dataframe thead th {\n",
       "        text-align: right;\n",
       "    }\n",
       "</style>\n",
       "<table border=\"1\" class=\"dataframe\">\n",
       "  <thead>\n",
       "    <tr style=\"text-align: right;\">\n",
       "      <th></th>\n",
       "      <th>annotation</th>\n",
       "      <th>datasource</th>\n",
       "      <th>end</th>\n",
       "      <th>external_id</th>\n",
       "      <th>selection</th>\n",
       "      <th>semantic_class</th>\n",
       "      <th>start</th>\n",
       "      <th>sysrev_id</th>\n",
       "      <th>text</th>\n",
       "    </tr>\n",
       "  </thead>\n",
       "  <tbody>\n",
       "    <tr>\n",
       "      <th>0</th>\n",
       "      <td>α-KGDH</td>\n",
       "      <td>pubmed</td>\n",
       "      <td>286.0</td>\n",
       "      <td>29211711</td>\n",
       "      <td>α-KGDH</td>\n",
       "      <td>gene</td>\n",
       "      <td>280.0</td>\n",
       "      <td>1524023</td>\n",
       "      <td>Histone modifications, such as the frequently ...</td>\n",
       "    </tr>\n",
       "    <tr>\n",
       "      <th>1</th>\n",
       "      <td>KAT2A</td>\n",
       "      <td>pubmed</td>\n",
       "      <td>391.0</td>\n",
       "      <td>29211711</td>\n",
       "      <td>KAT2A</td>\n",
       "      <td>gene</td>\n",
       "      <td>386.0</td>\n",
       "      <td>1524023</td>\n",
       "      <td>Histone modifications, such as the frequently ...</td>\n",
       "    </tr>\n",
       "    <tr>\n",
       "      <th>2</th>\n",
       "      <td>GCN5</td>\n",
       "      <td>pubmed</td>\n",
       "      <td>411.0</td>\n",
       "      <td>29211711</td>\n",
       "      <td>GCN5</td>\n",
       "      <td>gene</td>\n",
       "      <td>407.0</td>\n",
       "      <td>1524023</td>\n",
       "      <td>Histone modifications, such as the frequently ...</td>\n",
       "    </tr>\n",
       "    <tr>\n",
       "      <th>3</th>\n",
       "      <td>succinyl-CoA</td>\n",
       "      <td>pubmed</td>\n",
       "      <td>493.0</td>\n",
       "      <td>29211711</td>\n",
       "      <td>succinyl-CoA</td>\n",
       "      <td>gene</td>\n",
       "      <td>481.0</td>\n",
       "      <td>1524023</td>\n",
       "      <td>Histone modifications, such as the frequently ...</td>\n",
       "    </tr>\n",
       "    <tr>\n",
       "      <th>4</th>\n",
       "      <td>KAT2A</td>\n",
       "      <td>pubmed</td>\n",
       "      <td>509.0</td>\n",
       "      <td>29211711</td>\n",
       "      <td>KAT2A</td>\n",
       "      <td>gene</td>\n",
       "      <td>504.0</td>\n",
       "      <td>1524023</td>\n",
       "      <td>Histone modifications, such as the frequently ...</td>\n",
       "    </tr>\n",
       "  </tbody>\n",
       "</table>\n",
       "</div>"
      ],
      "text/plain": [
       "     annotation datasource    end  external_id     selection semantic_class  \\\n",
       "0        α-KGDH     pubmed  286.0     29211711        α-KGDH           gene   \n",
       "1         KAT2A     pubmed  391.0     29211711         KAT2A           gene   \n",
       "2          GCN5     pubmed  411.0     29211711          GCN5           gene   \n",
       "3  succinyl-CoA     pubmed  493.0     29211711  succinyl-CoA           gene   \n",
       "4         KAT2A     pubmed  509.0     29211711         KAT2A           gene   \n",
       "\n",
       "   start  sysrev_id                                               text  \n",
       "0  280.0    1524023  Histone modifications, such as the frequently ...  \n",
       "1  386.0    1524023  Histone modifications, such as the frequently ...  \n",
       "2  407.0    1524023  Histone modifications, such as the frequently ...  \n",
       "3  481.0    1524023  Histone modifications, such as the frequently ...  \n",
       "4  504.0    1524023  Histone modifications, such as the frequently ...  "
      ]
     },
     "execution_count": 10,
     "metadata": {},
     "output_type": "execute_result"
    }
   ],
   "source": [
    "# Our initial text\n",
    "df.head(5)"
   ]
  },
  {
   "cell_type": "code",
   "execution_count": 11,
   "metadata": {},
   "outputs": [],
   "source": [
    "# Run our texts through our trained model to get entities\n",
    "nlp2 = spacy.load('sysrev_gene')\n",
    "txt_list = []\n",
    "for txt in list(df['text']):\n",
    "    if txt is None:\n",
    "        txt_list.append(None)\n",
    "    else:\n",
    "        doc2 = nlp2(txt)\n",
    "        txt_list.append(doc2.ents)"
   ]
  },
  {
   "cell_type": "code",
   "execution_count": 12,
   "metadata": {},
   "outputs": [],
   "source": [
    "# Add entities to DataFrame\n",
    "df['entities'] = txt_list"
   ]
  },
  {
   "cell_type": "code",
   "execution_count": 13,
   "metadata": {},
   "outputs": [
    {
     "data": {
      "text/html": [
       "<div>\n",
       "<style scoped>\n",
       "    .dataframe tbody tr th:only-of-type {\n",
       "        vertical-align: middle;\n",
       "    }\n",
       "\n",
       "    .dataframe tbody tr th {\n",
       "        vertical-align: top;\n",
       "    }\n",
       "\n",
       "    .dataframe thead th {\n",
       "        text-align: right;\n",
       "    }\n",
       "</style>\n",
       "<table border=\"1\" class=\"dataframe\">\n",
       "  <thead>\n",
       "    <tr style=\"text-align: right;\">\n",
       "      <th></th>\n",
       "      <th>annotation</th>\n",
       "      <th>datasource</th>\n",
       "      <th>end</th>\n",
       "      <th>external_id</th>\n",
       "      <th>selection</th>\n",
       "      <th>semantic_class</th>\n",
       "      <th>start</th>\n",
       "      <th>sysrev_id</th>\n",
       "      <th>text</th>\n",
       "      <th>entities</th>\n",
       "    </tr>\n",
       "  </thead>\n",
       "  <tbody>\n",
       "    <tr>\n",
       "      <th>0</th>\n",
       "      <td>α-KGDH</td>\n",
       "      <td>pubmed</td>\n",
       "      <td>286.0</td>\n",
       "      <td>29211711</td>\n",
       "      <td>α-KGDH</td>\n",
       "      <td>gene</td>\n",
       "      <td>280.0</td>\n",
       "      <td>1524023</td>\n",
       "      <td>Histone modifications, such as the frequently ...</td>\n",
       "      <td>((α, -, KGDH), (KAT2A), (GCN5), (succinyl, -, ...</td>\n",
       "    </tr>\n",
       "    <tr>\n",
       "      <th>1</th>\n",
       "      <td>KAT2A</td>\n",
       "      <td>pubmed</td>\n",
       "      <td>391.0</td>\n",
       "      <td>29211711</td>\n",
       "      <td>KAT2A</td>\n",
       "      <td>gene</td>\n",
       "      <td>386.0</td>\n",
       "      <td>1524023</td>\n",
       "      <td>Histone modifications, such as the frequently ...</td>\n",
       "      <td>((α, -, KGDH), (KAT2A), (GCN5), (succinyl, -, ...</td>\n",
       "    </tr>\n",
       "    <tr>\n",
       "      <th>2</th>\n",
       "      <td>GCN5</td>\n",
       "      <td>pubmed</td>\n",
       "      <td>411.0</td>\n",
       "      <td>29211711</td>\n",
       "      <td>GCN5</td>\n",
       "      <td>gene</td>\n",
       "      <td>407.0</td>\n",
       "      <td>1524023</td>\n",
       "      <td>Histone modifications, such as the frequently ...</td>\n",
       "      <td>((α, -, KGDH), (KAT2A), (GCN5), (succinyl, -, ...</td>\n",
       "    </tr>\n",
       "    <tr>\n",
       "      <th>3</th>\n",
       "      <td>succinyl-CoA</td>\n",
       "      <td>pubmed</td>\n",
       "      <td>493.0</td>\n",
       "      <td>29211711</td>\n",
       "      <td>succinyl-CoA</td>\n",
       "      <td>gene</td>\n",
       "      <td>481.0</td>\n",
       "      <td>1524023</td>\n",
       "      <td>Histone modifications, such as the frequently ...</td>\n",
       "      <td>((α, -, KGDH), (KAT2A), (GCN5), (succinyl, -, ...</td>\n",
       "    </tr>\n",
       "    <tr>\n",
       "      <th>4</th>\n",
       "      <td>KAT2A</td>\n",
       "      <td>pubmed</td>\n",
       "      <td>509.0</td>\n",
       "      <td>29211711</td>\n",
       "      <td>KAT2A</td>\n",
       "      <td>gene</td>\n",
       "      <td>504.0</td>\n",
       "      <td>1524023</td>\n",
       "      <td>Histone modifications, such as the frequently ...</td>\n",
       "      <td>((α, -, KGDH), (KAT2A), (GCN5), (succinyl, -, ...</td>\n",
       "    </tr>\n",
       "  </tbody>\n",
       "</table>\n",
       "</div>"
      ],
      "text/plain": [
       "     annotation datasource    end  external_id     selection semantic_class  \\\n",
       "0        α-KGDH     pubmed  286.0     29211711        α-KGDH           gene   \n",
       "1         KAT2A     pubmed  391.0     29211711         KAT2A           gene   \n",
       "2          GCN5     pubmed  411.0     29211711          GCN5           gene   \n",
       "3  succinyl-CoA     pubmed  493.0     29211711  succinyl-CoA           gene   \n",
       "4         KAT2A     pubmed  509.0     29211711         KAT2A           gene   \n",
       "\n",
       "   start  sysrev_id                                               text  \\\n",
       "0  280.0    1524023  Histone modifications, such as the frequently ...   \n",
       "1  386.0    1524023  Histone modifications, such as the frequently ...   \n",
       "2  407.0    1524023  Histone modifications, such as the frequently ...   \n",
       "3  481.0    1524023  Histone modifications, such as the frequently ...   \n",
       "4  504.0    1524023  Histone modifications, such as the frequently ...   \n",
       "\n",
       "                                            entities  \n",
       "0  ((α, -, KGDH), (KAT2A), (GCN5), (succinyl, -, ...  \n",
       "1  ((α, -, KGDH), (KAT2A), (GCN5), (succinyl, -, ...  \n",
       "2  ((α, -, KGDH), (KAT2A), (GCN5), (succinyl, -, ...  \n",
       "3  ((α, -, KGDH), (KAT2A), (GCN5), (succinyl, -, ...  \n",
       "4  ((α, -, KGDH), (KAT2A), (GCN5), (succinyl, -, ...  "
      ]
     },
     "execution_count": 13,
     "metadata": {},
     "output_type": "execute_result"
    }
   ],
   "source": [
    "# Identified genes shown as new column\n",
    "df.head(5)"
   ]
  },
  {
   "cell_type": "code",
   "execution_count": null,
   "metadata": {},
   "outputs": [],
   "source": []
  }
 ],
 "metadata": {
  "kernelspec": {
   "display_name": "Python 2",
   "language": "python",
   "name": "python2"
  },
  "language_info": {
   "codemirror_mode": {
    "name": "ipython",
    "version": 2
   },
   "file_extension": ".py",
   "mimetype": "text/x-python",
   "name": "python",
   "nbconvert_exporter": "python",
   "pygments_lexer": "ipython2",
   "version": "2.7.12"
  }
 },
 "nbformat": 4,
 "nbformat_minor": 2
}
